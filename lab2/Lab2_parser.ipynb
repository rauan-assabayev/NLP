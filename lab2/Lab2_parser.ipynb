{
  "nbformat": 4,
  "nbformat_minor": 0,
  "metadata": {
    "colab": {
      "name": "Lab2_parser.ipynb",
      "provenance": [],
      "authorship_tag": "ABX9TyM6Cce0AAwT1V25S473XZqo",
      "include_colab_link": true
    },
    "kernelspec": {
      "name": "python3",
      "display_name": "Python 3"
    }
  },
  "cells": [
    {
      "cell_type": "markdown",
      "metadata": {
        "id": "view-in-github",
        "colab_type": "text"
      },
      "source": [
        "<a href=\"https://colab.research.google.com/github/rauan-assabayev/NLP/blob/master/lab2/Lab2_parser.ipynb\" target=\"_parent\"><img src=\"https://colab.research.google.com/assets/colab-badge.svg\" alt=\"Open In Colab\"/></a>"
      ]
    },
    {
      "cell_type": "code",
      "metadata": {
        "id": "OslvgTeuCk-i",
        "colab_type": "code",
        "colab": {
          "base_uri": "https://localhost:8080/",
          "height": 343
        },
        "outputId": "792496c7-5cc4-452d-9098-2a2b01df5004"
      },
      "source": [
        "CHARGE_NUMBER = 7\n",
        "import pandas as pd\n",
        "df = pd.read_csv(\"https://raw.githubusercontent.com/rauan-assabayev/kbtu-python-course/master/Lab2_words.csv\")\n",
        "charge = df.loc[df['IN CHARGE NUMBER'] == CHARGE_NUMBER]\n",
        "charge.head(5)"
      ],
      "execution_count": 82,
      "outputs": [
        {
          "output_type": "execute_result",
          "data": {
            "text/html": [
              "<div>\n",
              "<style scoped>\n",
              "    .dataframe tbody tr th:only-of-type {\n",
              "        vertical-align: middle;\n",
              "    }\n",
              "\n",
              "    .dataframe tbody tr th {\n",
              "        vertical-align: top;\n",
              "    }\n",
              "\n",
              "    .dataframe thead th {\n",
              "        text-align: right;\n",
              "    }\n",
              "</style>\n",
              "<table border=\"1\" class=\"dataframe\">\n",
              "  <thead>\n",
              "    <tr style=\"text-align: right;\">\n",
              "      <th></th>\n",
              "      <th>Unnamed: 0</th>\n",
              "      <th>IN CHARGE NUMBER</th>\n",
              "      <th>IN CHARGE NAME</th>\n",
              "      <th>HYPONYM</th>\n",
              "      <th>HYPERNYM</th>\n",
              "      <th>HYPERNYM.1</th>\n",
              "      <th>HYPERNYM.2</th>\n",
              "      <th>HYPERNYM.3</th>\n",
              "      <th>HYPERNYM.4</th>\n",
              "      <th>HYPERNYM.5</th>\n",
              "      <th>HYPERNYM.6</th>\n",
              "      <th>HYPERNYM.7</th>\n",
              "      <th>HYPERNYM.8</th>\n",
              "      <th>HYPERNYM.9</th>\n",
              "    </tr>\n",
              "  </thead>\n",
              "  <tbody>\n",
              "    <tr>\n",
              "      <th>144</th>\n",
              "      <td>145</td>\n",
              "      <td>7</td>\n",
              "      <td>Rauan Assabayev</td>\n",
              "      <td>БЛОГЕР</td>\n",
              "      <td>NaN</td>\n",
              "      <td>NaN</td>\n",
              "      <td>NaN</td>\n",
              "      <td>NaN</td>\n",
              "      <td>NaN</td>\n",
              "      <td>NaN</td>\n",
              "      <td>NaN</td>\n",
              "      <td>NaN</td>\n",
              "      <td>NaN</td>\n",
              "      <td>NaN</td>\n",
              "    </tr>\n",
              "    <tr>\n",
              "      <th>145</th>\n",
              "      <td>146</td>\n",
              "      <td>7</td>\n",
              "      <td>Rauan Assabayev</td>\n",
              "      <td>БЛОКЧЕЙН</td>\n",
              "      <td>NaN</td>\n",
              "      <td>NaN</td>\n",
              "      <td>NaN</td>\n",
              "      <td>NaN</td>\n",
              "      <td>NaN</td>\n",
              "      <td>NaN</td>\n",
              "      <td>NaN</td>\n",
              "      <td>NaN</td>\n",
              "      <td>NaN</td>\n",
              "      <td>NaN</td>\n",
              "    </tr>\n",
              "    <tr>\n",
              "      <th>146</th>\n",
              "      <td>147</td>\n",
              "      <td>7</td>\n",
              "      <td>Rauan Assabayev</td>\n",
              "      <td>БОГОМОЛ</td>\n",
              "      <td>NaN</td>\n",
              "      <td>NaN</td>\n",
              "      <td>NaN</td>\n",
              "      <td>NaN</td>\n",
              "      <td>NaN</td>\n",
              "      <td>NaN</td>\n",
              "      <td>NaN</td>\n",
              "      <td>NaN</td>\n",
              "      <td>NaN</td>\n",
              "      <td>NaN</td>\n",
              "    </tr>\n",
              "    <tr>\n",
              "      <th>147</th>\n",
              "      <td>148</td>\n",
              "      <td>7</td>\n",
              "      <td>Rauan Assabayev</td>\n",
              "      <td>БОЙСКАУТ</td>\n",
              "      <td>NaN</td>\n",
              "      <td>NaN</td>\n",
              "      <td>NaN</td>\n",
              "      <td>NaN</td>\n",
              "      <td>NaN</td>\n",
              "      <td>NaN</td>\n",
              "      <td>NaN</td>\n",
              "      <td>NaN</td>\n",
              "      <td>NaN</td>\n",
              "      <td>NaN</td>\n",
              "    </tr>\n",
              "    <tr>\n",
              "      <th>148</th>\n",
              "      <td>149</td>\n",
              "      <td>7</td>\n",
              "      <td>Rauan Assabayev</td>\n",
              "      <td>БОЛЬШАК</td>\n",
              "      <td>NaN</td>\n",
              "      <td>NaN</td>\n",
              "      <td>NaN</td>\n",
              "      <td>NaN</td>\n",
              "      <td>NaN</td>\n",
              "      <td>NaN</td>\n",
              "      <td>NaN</td>\n",
              "      <td>NaN</td>\n",
              "      <td>NaN</td>\n",
              "      <td>NaN</td>\n",
              "    </tr>\n",
              "  </tbody>\n",
              "</table>\n",
              "</div>"
            ],
            "text/plain": [
              "     Unnamed: 0  IN CHARGE NUMBER  ... HYPERNYM.8 HYPERNYM.9\n",
              "144         145                 7  ...        NaN        NaN\n",
              "145         146                 7  ...        NaN        NaN\n",
              "146         147                 7  ...        NaN        NaN\n",
              "147         148                 7  ...        NaN        NaN\n",
              "148         149                 7  ...        NaN        NaN\n",
              "\n",
              "[5 rows x 14 columns]"
            ]
          },
          "metadata": {
            "tags": []
          },
          "execution_count": 82
        }
      ]
    },
    {
      "cell_type": "code",
      "metadata": {
        "id": "UP9CWHZYkYuJ",
        "colab_type": "code",
        "colab": {
          "base_uri": "https://localhost:8080/",
          "height": 449
        },
        "outputId": "c7a55cae-e573-4215-e6da-342d75d043c5"
      },
      "source": [
        "for index, row in charge.iterrows():\n",
        "    print(row['HYPONYM'])"
      ],
      "execution_count": 81,
      "outputs": [
        {
          "output_type": "stream",
          "text": [
            "БЛОГЕР\n",
            "БЛОКЧЕЙН\n",
            "БОГОМОЛ\n",
            "БОЙСКАУТ\n",
            "БОЛЬШАК\n",
            "БОМБЕР\n",
            "БОНИТИРОВКА\n",
            "БОРЗОПИСЕЦ\n",
            "БОРОДАВОЧНИК\n",
            "БОРРЕЛИОЗ\n",
            "БОРТНИЧЕСТВО\n",
            "БОТВА\n",
            "БОТУЛИЗМ\n",
            "БРАГА\n",
            "БРИЧКА\n",
            "БРОДИЛКА\n",
            "БРОНЕЖИЛЕТ\n",
            "БРЮКВА\n",
            "БУЖЕНИНА\n",
            "БУКИНИСТ\n",
            "БУЛЬТЕРЬЕР\n",
            "БУНДЕСРАТ\n",
            "БУРЕЛОМ\n",
            "БУРИМЕ\n"
          ],
          "name": "stdout"
        }
      ]
    },
    {
      "cell_type": "code",
      "metadata": {
        "id": "a1U4gqSExpNP",
        "colab_type": "code",
        "colab": {
          "base_uri": "https://localhost:8080/",
          "height": 449
        },
        "outputId": "9e698fb3-5c8d-4195-cf4f-527056438b5c"
      },
      "source": [
        "import urllib.request\n",
        "import time\n",
        "from bs4 import BeautifulSoup\n",
        "from urllib.parse import quote\n",
        "countries_url = list()\n",
        "urn = \"https://ru.wiktionary.org/wiki/\"\n",
        "for index, row in charge.iterrows():\n",
        "    uri = quote(row['HYPONYM'].lower(),safe='')\n",
        "    url = urn + uri\n",
        "    source = urllib.request.urlopen(url).read()\n",
        "    soup = BeautifulSoup(source)\n",
        "    span = soup.select_one(\"#Гиперонимы\")\n",
        "    h4 = span.find_parent('h4')\n",
        "    ol = h4.find_next_sibling('ol')\n",
        "    hyponyms = row['HYPONYM'] + \" : \"\n",
        "    for li in ol.find_all('li'):\n",
        "      try:\n",
        "        if li.text:\n",
        "          hyponyms  += li.text.upper() + \", \"\n",
        "      except: \n",
        "        pass\n",
        "    print(hyponyms.replace(\",\",\";\"))\n",
        "    time.sleep(3.0)"
      ],
      "execution_count": 97,
      "outputs": [
        {
          "output_type": "stream",
          "text": [
            "БЛОГЕР : АВТОР; ВЛАДЕЛЕЦ; \n",
            "БЛОКЧЕЙН : \n",
            "БОГОМОЛ : НАСЕКОМОЕ; ХИЩНИК; ВЕРУЮЩИЙ; \n",
            "БОЙСКАУТ : СКАУТ; \n",
            "БОЛЬШАК : ДОРОГА; \n",
            "БОМБЕР : КУРТКА; САМОЛЁТ; ЛИТРОВКА; \n",
            "БОНИТИРОВКА : ОЦЕНКА; ОЦЕНКА; \n",
            "БОРЗОПИСЕЦ : ПИСАТЕЛЬ; \n",
            "БОРОДАВОЧНИК : \n",
            "БОРРЕЛИОЗ : БОЛЕЗНЬ; ЗАБОЛЕВАНИЕ; \n",
            "БОРТНИЧЕСТВО : \n",
            "БОТВА : \n",
            "БОТУЛИЗМ : \n",
            "БРАГА : НАПИТОК; \n",
            "БРИЧКА : ПОВОЗКА; ТРАНСПОРТ;  ?; \n",
            "БРОДИЛКА : \n",
            "БРОНЕЖИЛЕТ : \n",
            "БРЮКВА : РАСТЕНИЕ; КОРНЕПЛОД; \n",
            "БУЖЕНИНА : БЛЮДО; \n",
            "БУКИНИСТ : АНТИКВАР; ТОРГОВЕЦ; ПРОДАВЕЦ; \n",
            "БУЛЬТЕРЬЕР : \n",
            "БУНДЕСРАТ : \n",
            "БУРЕЛОМ : ЛЕС; ВЫВАЛ; ТЕРРИТОРИЯ; ВЫВАЛ; \n",
            "БУРИМЕ : ИГРА; ТВОРЧЕСТВО; \n"
          ],
          "name": "stdout"
        }
      ]
    }
  ]
}