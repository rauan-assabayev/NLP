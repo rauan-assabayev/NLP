{
  "nbformat": 4,
  "nbformat_minor": 0,
  "metadata": {
    "colab": {
      "name": "word2vec.ipynb",
      "provenance": []
    },
    "kernelspec": {
      "name": "python3",
      "display_name": "Python 3"
    }
  },
  "cells": [
    {
      "cell_type": "markdown",
      "metadata": {
        "id": "saEWy38vdkyS",
        "colab_type": "text"
      },
      "source": [
        "Lab 1 \n",
        "<br>\n",
        " **Assabayev Rauan**"
      ]
    },
    {
      "cell_type": "code",
      "metadata": {
        "id": "RRZlu2B6NggD",
        "colab_type": "code",
        "colab": {}
      },
      "source": [
        "import re, string \n",
        "import pandas as pd\n",
        "import matplotlib.pyplot as plt\n",
        "%matplotlib notebook\n",
        "import numpy as np\n",
        "import pandas as pd  # For data handling\n",
        "import matplotlib.pyplot as plt\n",
        "%matplotlib inline\n",
        "from gensim.models import Word2Vec\n",
        "from sklearn.manifold import TSNE\n",
        "from numpy import dot\n",
        "from numpy.linalg import norm\n",
        "from collections import defaultdict\n",
        "from nltk.corpus import stopwords"
      ],
      "execution_count": 0,
      "outputs": []
    },
    {
      "cell_type": "code",
      "metadata": {
        "id": "aMofwY-INsvZ",
        "colab_type": "code",
        "outputId": "bf92fe19-a005-4f0d-a06d-aba437d89148",
        "colab": {
          "base_uri": "https://localhost:8080/",
          "height": 204
        }
      },
      "source": [
        "df = pd.read_csv('/content/gdrive/My Drive/colab_datasets/BBC-news.csv')\n",
        "df.head(5)"
      ],
      "execution_count": 0,
      "outputs": [
        {
          "output_type": "execute_result",
          "data": {
            "text/html": [
              "<div>\n",
              "<style scoped>\n",
              "    .dataframe tbody tr th:only-of-type {\n",
              "        vertical-align: middle;\n",
              "    }\n",
              "\n",
              "    .dataframe tbody tr th {\n",
              "        vertical-align: top;\n",
              "    }\n",
              "\n",
              "    .dataframe thead th {\n",
              "        text-align: right;\n",
              "    }\n",
              "</style>\n",
              "<table border=\"1\" class=\"dataframe\">\n",
              "  <thead>\n",
              "    <tr style=\"text-align: right;\">\n",
              "      <th></th>\n",
              "      <th>category</th>\n",
              "      <th>text</th>\n",
              "    </tr>\n",
              "  </thead>\n",
              "  <tbody>\n",
              "    <tr>\n",
              "      <th>0</th>\n",
              "      <td>tech</td>\n",
              "      <td>tv future in the hands of viewers with home th...</td>\n",
              "    </tr>\n",
              "    <tr>\n",
              "      <th>1</th>\n",
              "      <td>business</td>\n",
              "      <td>worldcom boss  left books alone  former worldc...</td>\n",
              "    </tr>\n",
              "    <tr>\n",
              "      <th>2</th>\n",
              "      <td>sport</td>\n",
              "      <td>tigers wary of farrell  gamble  leicester say ...</td>\n",
              "    </tr>\n",
              "    <tr>\n",
              "      <th>3</th>\n",
              "      <td>sport</td>\n",
              "      <td>yeading face newcastle in fa cup premiership s...</td>\n",
              "    </tr>\n",
              "    <tr>\n",
              "      <th>4</th>\n",
              "      <td>entertainment</td>\n",
              "      <td>ocean s twelve raids box office ocean s twelve...</td>\n",
              "    </tr>\n",
              "  </tbody>\n",
              "</table>\n",
              "</div>"
            ],
            "text/plain": [
              "        category                                               text\n",
              "0           tech  tv future in the hands of viewers with home th...\n",
              "1       business  worldcom boss  left books alone  former worldc...\n",
              "2          sport  tigers wary of farrell  gamble  leicester say ...\n",
              "3          sport  yeading face newcastle in fa cup premiership s...\n",
              "4  entertainment  ocean s twelve raids box office ocean s twelve..."
            ]
          },
          "metadata": {
            "tags": []
          },
          "execution_count": 135
        }
      ]
    },
    {
      "cell_type": "code",
      "metadata": {
        "id": "ewmzyUKeOPHj",
        "colab_type": "code",
        "outputId": "cb1e785c-b223-4ad8-a263-635c052e9919",
        "colab": {
          "base_uri": "https://localhost:8080/",
          "height": 204
        }
      },
      "source": [
        "STOPWORDS = set(stopwords.words('english'))\n",
        "def preprocessing(text):\n",
        "    text = text.lower()\n",
        "    text = re.sub(r'\\[.*?\\]', '', text)\n",
        "    text = re.sub(r'[%s]' % re.escape(string.punctuation), '', text)\n",
        "    text = re.sub(r'\\w*\\d\\w*', '', text)\n",
        "    if len(text) > 2:\n",
        "        return ' '.join(word for word in text.split() if word not in STOPWORDS)\n",
        "\n",
        "df_pre = pd.DataFrame(df.text.apply(lambda x: preprocessing(x)))\n",
        "df_pre.head(5)"
      ],
      "execution_count": 0,
      "outputs": [
        {
          "output_type": "execute_result",
          "data": {
            "text/html": [
              "<div>\n",
              "<style scoped>\n",
              "    .dataframe tbody tr th:only-of-type {\n",
              "        vertical-align: middle;\n",
              "    }\n",
              "\n",
              "    .dataframe tbody tr th {\n",
              "        vertical-align: top;\n",
              "    }\n",
              "\n",
              "    .dataframe thead th {\n",
              "        text-align: right;\n",
              "    }\n",
              "</style>\n",
              "<table border=\"1\" class=\"dataframe\">\n",
              "  <thead>\n",
              "    <tr style=\"text-align: right;\">\n",
              "      <th></th>\n",
              "      <th>text</th>\n",
              "    </tr>\n",
              "  </thead>\n",
              "  <tbody>\n",
              "    <tr>\n",
              "      <th>0</th>\n",
              "      <td>tv future hands viewers home theatre systems p...</td>\n",
              "    </tr>\n",
              "    <tr>\n",
              "      <th>1</th>\n",
              "      <td>worldcom boss left books alone former worldcom...</td>\n",
              "    </tr>\n",
              "    <tr>\n",
              "      <th>2</th>\n",
              "      <td>tigers wary farrell gamble leicester say rushe...</td>\n",
              "    </tr>\n",
              "    <tr>\n",
              "      <th>3</th>\n",
              "      <td>yeading face newcastle fa cup premiership side...</td>\n",
              "    </tr>\n",
              "    <tr>\n",
              "      <th>4</th>\n",
              "      <td>ocean twelve raids box office ocean twelve cri...</td>\n",
              "    </tr>\n",
              "  </tbody>\n",
              "</table>\n",
              "</div>"
            ],
            "text/plain": [
              "                                                text\n",
              "0  tv future hands viewers home theatre systems p...\n",
              "1  worldcom boss left books alone former worldcom...\n",
              "2  tigers wary farrell gamble leicester say rushe...\n",
              "3  yeading face newcastle fa cup premiership side...\n",
              "4  ocean twelve raids box office ocean twelve cri..."
            ]
          },
          "metadata": {
            "tags": []
          },
          "execution_count": 144
        }
      ]
    },
    {
      "cell_type": "code",
      "metadata": {
        "id": "e822aX0CdOul",
        "colab_type": "code",
        "outputId": "0230ec0c-8644-4e1f-d918-a3597153d587",
        "colab": {
          "base_uri": "https://localhost:8080/",
          "height": 809
        }
      },
      "source": [
        "data = [row.split(' ') for row in df_pre['text']]\n",
        "## Train the genisim word2vec model with our own custom corpus        \n",
        "model = Word2Vec(data, min_count=1,size= 50,workers=3, window =3, sg = 1)"
      ],
      "execution_count": 0,
      "outputs": [
        {
          "output_type": "stream",
          "text": [
            "WARNING - 12:57:04: consider setting layer size to a multiple of 4 for greater performance\n",
            "INFO - 12:57:04: collecting all words and their counts\n",
            "INFO - 12:57:04: PROGRESS: at sentence #0, processed 0 words, keeping 0 word types\n",
            "INFO - 12:57:04: collected 30088 word types from a corpus of 477834 raw words and 2225 sentences\n",
            "INFO - 12:57:04: Loading a fresh vocabulary\n",
            "INFO - 12:57:04: effective_min_count=1 retains 30088 unique words (100% of original 30088, drops 0)\n",
            "INFO - 12:57:04: effective_min_count=1 leaves 477834 word corpus (100% of original 477834, drops 0)\n",
            "INFO - 12:57:04: deleting the raw counts dictionary of 30088 items\n",
            "INFO - 12:57:04: sample=0.001 downsamples 13 most-common words\n",
            "INFO - 12:57:04: downsampling leaves estimated 467172 word corpus (97.8% of prior 477834)\n",
            "INFO - 12:57:04: estimated required memory for 30088 words and 50 dimensions: 27079200 bytes\n",
            "INFO - 12:57:04: resetting layer weights\n",
            "INFO - 12:57:11: training model with 3 workers on 30088 vocabulary and 50 features, using sg=1 hs=0 sample=0.001 negative=5 window=3\n",
            "INFO - 12:57:12: EPOCH 1 - PROGRESS: at 38.97% examples, 182013 words/s, in_qsize 5, out_qsize 0\n",
            "INFO - 12:57:13: EPOCH 1 - PROGRESS: at 77.89% examples, 182451 words/s, in_qsize 5, out_qsize 1\n",
            "INFO - 12:57:13: worker thread finished; awaiting finish of 2 more threads\n",
            "INFO - 12:57:13: worker thread finished; awaiting finish of 1 more threads\n",
            "INFO - 12:57:13: worker thread finished; awaiting finish of 0 more threads\n",
            "INFO - 12:57:13: EPOCH - 1 : training on 477834 raw words (467234 effective words) took 2.5s, 190606 effective words/s\n",
            "INFO - 12:57:14: EPOCH 2 - PROGRESS: at 37.30% examples, 172094 words/s, in_qsize 4, out_qsize 1\n",
            "INFO - 12:57:15: EPOCH 2 - PROGRESS: at 80.04% examples, 181174 words/s, in_qsize 5, out_qsize 0\n",
            "INFO - 12:57:15: worker thread finished; awaiting finish of 2 more threads\n",
            "INFO - 12:57:15: worker thread finished; awaiting finish of 1 more threads\n",
            "INFO - 12:57:16: worker thread finished; awaiting finish of 0 more threads\n",
            "INFO - 12:57:16: EPOCH - 2 : training on 477834 raw words (467284 effective words) took 2.5s, 187207 effective words/s\n",
            "INFO - 12:57:17: EPOCH 3 - PROGRESS: at 40.76% examples, 181759 words/s, in_qsize 5, out_qsize 0\n",
            "INFO - 12:57:18: EPOCH 3 - PROGRESS: at 81.93% examples, 182617 words/s, in_qsize 5, out_qsize 0\n",
            "INFO - 12:57:18: worker thread finished; awaiting finish of 2 more threads\n",
            "INFO - 12:57:18: worker thread finished; awaiting finish of 1 more threads\n",
            "INFO - 12:57:18: worker thread finished; awaiting finish of 0 more threads\n",
            "INFO - 12:57:18: EPOCH - 3 : training on 477834 raw words (467217 effective words) took 2.5s, 188612 effective words/s\n",
            "INFO - 12:57:19: EPOCH 4 - PROGRESS: at 39.10% examples, 179003 words/s, in_qsize 5, out_qsize 0\n",
            "INFO - 12:57:20: EPOCH 4 - PROGRESS: at 79.87% examples, 184120 words/s, in_qsize 5, out_qsize 0\n",
            "INFO - 12:57:20: worker thread finished; awaiting finish of 2 more threads\n",
            "INFO - 12:57:20: worker thread finished; awaiting finish of 1 more threads\n",
            "INFO - 12:57:20: worker thread finished; awaiting finish of 0 more threads\n",
            "INFO - 12:57:20: EPOCH - 4 : training on 477834 raw words (467162 effective words) took 2.5s, 189797 effective words/s\n",
            "INFO - 12:57:22: EPOCH 5 - PROGRESS: at 38.97% examples, 176692 words/s, in_qsize 5, out_qsize 0\n",
            "INFO - 12:57:23: EPOCH 5 - PROGRESS: at 79.87% examples, 182240 words/s, in_qsize 5, out_qsize 0\n",
            "INFO - 12:57:23: worker thread finished; awaiting finish of 2 more threads\n",
            "INFO - 12:57:23: worker thread finished; awaiting finish of 1 more threads\n",
            "INFO - 12:57:23: worker thread finished; awaiting finish of 0 more threads\n",
            "INFO - 12:57:23: EPOCH - 5 : training on 477834 raw words (467255 effective words) took 2.5s, 188480 effective words/s\n",
            "INFO - 12:57:23: training on a 2389170 raw words (2336152 effective words) took 12.4s, 188411 effective words/s\n"
          ],
          "name": "stderr"
        }
      ]
    },
    {
      "cell_type": "code",
      "metadata": {
        "id": "YiEJCSCWOwg4",
        "colab_type": "code",
        "outputId": "aeea1447-8b98-4066-abb6-5bf07cfc93a9",
        "colab": {
          "base_uri": "https://localhost:8080/",
          "height": 215
        }
      },
      "source": [
        "model.most_similar('america')[:10]"
      ],
      "execution_count": 0,
      "outputs": [
        {
          "output_type": "stream",
          "text": [
            "INFO - 12:57:27: precomputing L2-norms of word weight vectors\n"
          ],
          "name": "stderr"
        },
        {
          "output_type": "execute_result",
          "data": {
            "text/plain": [
              "[('korea', 0.9578529596328735),\n",
              " ('barclays', 0.9419835209846497),\n",
              " ('pence', 0.9371678829193115),\n",
              " ('north', 0.9369767308235168),\n",
              " ('steel', 0.9367641806602478),\n",
              " ('carmaker', 0.9354779124259949),\n",
              " ('indian', 0.9350957870483398),\n",
              " ('swiss', 0.9327080249786377),\n",
              " ('air', 0.9322549104690552),\n",
              " ('hong', 0.9299468994140625)]"
            ]
          },
          "metadata": {
            "tags": []
          },
          "execution_count": 146
        }
      ]
    },
    {
      "cell_type": "code",
      "metadata": {
        "id": "3Oj11qFRS4Fa",
        "colab_type": "code",
        "colab": {}
      },
      "source": [
        "def display_closestwords_tsnescatterplot(model, word, size):\n",
        "    \n",
        "    arr = np.empty((0,size), dtype='f')\n",
        "    word_labels = [word]\n",
        "\n",
        "    close_words = model.similar_by_word(word)\n",
        "\n",
        "    arr = np.append(arr, np.array([model[word]]), axis=0)\n",
        "    for wrd_score in close_words:\n",
        "        wrd_vector = model[wrd_score[0]]\n",
        "        word_labels.append(wrd_score[0])\n",
        "        arr = np.append(arr, np.array([wrd_vector]), axis=0)\n",
        "        \n",
        "    tsne = TSNE(n_components=2, random_state=0)\n",
        "    np.set_printoptions(suppress=True)\n",
        "    Y = tsne.fit_transform(arr)\n",
        "\n",
        "    x_coords = Y[:, 0]\n",
        "    y_coords = Y[:, 1]\n",
        "    plt.scatter(x_coords, y_coords)\n",
        "\n",
        "  \n",
        "    for label, x, y in zip(word_labels, x_coords, y_coords):\n",
        "        plt.annotate(label, xy=(x, y), xytext=(0, 0), textcoords='offset points')\n",
        "    plt.xlim(x_coords.min()+0.00005, x_coords.max()+0.00005)\n",
        "    plt.ylim(y_coords.min()+0.00005, y_coords.max()+0.00005)\n",
        "    plt"
      ],
      "execution_count": 0,
      "outputs": []
    },
    {
      "cell_type": "code",
      "metadata": {
        "id": "dXCi3S0mVB8d",
        "colab_type": "code",
        "outputId": "1d3342cc-f482-49fd-90c9-13a3fa242735",
        "colab": {
          "base_uri": "https://localhost:8080/",
          "height": 273
        }
      },
      "source": [
        "display_closestwords_tsnescatterplot(model,'america',50)"
      ],
      "execution_count": 0,
      "outputs": [
        {
          "output_type": "display_data",
          "data": {
            "image/png": "[encoded data removed]",
            "text/plain": [
              "<Figure size 432x288 with 1 Axes>"
            ]
          },
          "metadata": {
            "tags": []
          }
        }
      ]
    }
  ]
}