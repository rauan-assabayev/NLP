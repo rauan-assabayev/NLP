{
  "nbformat": 4,
  "nbformat_minor": 0,
  "metadata": {
    "colab": {
      "name": "HypernymTitles.ipynb",
      "provenance": [],
      "authorship_tag": "ABX9TyNe2+JSTueOH+2o4407846j",
      "include_colab_link": true
    },
    "kernelspec": {
      "name": "python3",
      "display_name": "Python 3"
    },
    "widgets": {
      "application/vnd.jupyter.widget-state+json": {
        "d362c4dbdbeb47bfaf1477a48a83b8c4": {
          "model_module": "@jupyter-widgets/controls",
          "model_name": "VBoxModel",
          "state": {
            "_view_name": "VBoxView",
            "_dom_classes": [
              "widget-interact"
            ],
            "_model_name": "VBoxModel",
            "_view_module": "@jupyter-widgets/controls",
            "_model_module_version": "1.5.0",
            "_view_count": null,
            "_view_module_version": "1.5.0",
            "box_style": "",
            "layout": "IPY_MODEL_35f68182a060456a9bcafe4e53e6feaa",
            "_model_module": "@jupyter-widgets/controls",
            "children": [
              "IPY_MODEL_986323e85d3a4fd1931861fa82e5341c",
              "IPY_MODEL_7c41ee9516704f91a297ef0969ad301d"
            ]
          }
        },
        "35f68182a060456a9bcafe4e53e6feaa": {
          "model_module": "@jupyter-widgets/base",
          "model_name": "LayoutModel",
          "state": {
            "_view_name": "LayoutView",
            "grid_template_rows": null,
            "right": null,
            "justify_content": null,
            "_view_module": "@jupyter-widgets/base",
            "overflow": null,
            "_model_module_version": "1.2.0",
            "_view_count": null,
            "flex_flow": null,
            "width": null,
            "min_width": null,
            "border": null,
            "align_items": null,
            "bottom": null,
            "_model_module": "@jupyter-widgets/base",
            "top": null,
            "grid_column": null,
            "overflow_y": null,
            "overflow_x": null,
            "grid_auto_flow": null,
            "grid_area": null,
            "grid_template_columns": null,
            "flex": null,
            "_model_name": "LayoutModel",
            "justify_items": null,
            "grid_row": null,
            "max_height": null,
            "align_content": null,
            "visibility": null,
            "align_self": null,
            "height": null,
            "min_height": null,
            "padding": null,
            "grid_auto_rows": null,
            "grid_gap": null,
            "max_width": null,
            "order": null,
            "_view_module_version": "1.2.0",
            "grid_template_areas": null,
            "object_position": null,
            "object_fit": null,
            "grid_auto_columns": null,
            "margin": null,
            "display": null,
            "left": null
          }
        },
        "986323e85d3a4fd1931861fa82e5341c": {
          "model_module": "@jupyter-widgets/controls",
          "model_name": "IntSliderModel",
          "state": {
            "_view_name": "IntSliderView",
            "style": "IPY_MODEL_7a3a9743144f481bba42bbc8ee541ec4",
            "_dom_classes": [],
            "description": "ind",
            "step": 1,
            "_model_name": "IntSliderModel",
            "orientation": "horizontal",
            "max": 995,
            "_view_module": "@jupyter-widgets/controls",
            "_model_module_version": "1.5.0",
            "value": 276,
            "_view_count": null,
            "disabled": false,
            "_view_module_version": "1.5.0",
            "min": 0,
            "continuous_update": true,
            "readout_format": "d",
            "description_tooltip": null,
            "readout": true,
            "_model_module": "@jupyter-widgets/controls",
            "layout": "IPY_MODEL_a94ee18831e145199af47a0678ba3fa1"
          }
        },
        "7c41ee9516704f91a297ef0969ad301d": {
          "model_module": "@jupyter-widgets/output",
          "model_name": "OutputModel",
          "state": {
            "_view_name": "OutputView",
            "msg_id": "",
            "_dom_classes": [],
            "_model_name": "OutputModel",
            "outputs": [
              {
                "output_type": "stream",
                "metadata": {
                  "tags": []
                },
                "text": "synthetic language generation model validation beast\n[   ('concept', 'generation', 'language', 'evolution'),\n    ('proofs', 'programs', 'open', 'terms'),\n    (   'general',\n        'purpose',\n        'visual',\n        'language',\n        'information',\n        'system',\n        'case',\n        'studies',\n        'developing',\n        'business',\n        'applications'),\n    (   'design',\n        'implementation',\n        'tactical',\n        'generator',\n        'turkish',\n        'free',\n        'constituent',\n        'order',\n        'language'),\n    ('exploiting', 'syntactic', 'structure', 'natural', 'language', 'modeling'),\n    (   'category',\n        'theoretic',\n        'quantitative',\n        'compositional',\n        'distributional',\n        'models',\n        'natural',\n        'language',\n        'semantics'),\n    (   'proof',\n        'theory',\n        'work',\n        'complexity',\n        'analysis',\n        'term',\n        'rewrite',\n        'systems'),\n    ('topological', 'quantum', 'field', 'theories', 'character', 'varieties'),\n    ('nonlinear', 'model', 'inverse', 'audio', 'system'),\n    (   'foundations',\n        'quantum',\n        'theory',\n        'quantum',\n        'information',\n        'applications')]\n",
                "stream": "stdout"
              }
            ],
            "_view_module": "@jupyter-widgets/output",
            "_model_module_version": "1.0.0",
            "_view_count": null,
            "_view_module_version": "1.0.0",
            "layout": "IPY_MODEL_442003e763824bbe949d2f4209f9e78e",
            "_model_module": "@jupyter-widgets/output"
          }
        },
        "7a3a9743144f481bba42bbc8ee541ec4": {
          "model_module": "@jupyter-widgets/controls",
          "model_name": "SliderStyleModel",
          "state": {
            "_view_name": "StyleView",
            "handle_color": null,
            "_model_name": "SliderStyleModel",
            "description_width": "",
            "_view_module": "@jupyter-widgets/base",
            "_model_module_version": "1.5.0",
            "_view_count": null,
            "_view_module_version": "1.2.0",
            "_model_module": "@jupyter-widgets/controls"
          }
        },
        "a94ee18831e145199af47a0678ba3fa1": {
          "model_module": "@jupyter-widgets/base",
          "model_name": "LayoutModel",
          "state": {
            "_view_name": "LayoutView",
            "grid_template_rows": null,
            "right": null,
            "justify_content": null,
            "_view_module": "@jupyter-widgets/base",
            "overflow": null,
            "_model_module_version": "1.2.0",
            "_view_count": null,
            "flex_flow": null,
            "width": null,
            "min_width": null,
            "border": null,
            "align_items": null,
            "bottom": null,
            "_model_module": "@jupyter-widgets/base",
            "top": null,
            "grid_column": null,
            "overflow_y": null,
            "overflow_x": null,
            "grid_auto_flow": null,
            "grid_area": null,
            "grid_template_columns": null,
            "flex": null,
            "_model_name": "LayoutModel",
            "justify_items": null,
            "grid_row": null,
            "max_height": null,
            "align_content": null,
            "visibility": null,
            "align_self": null,
            "height": null,
            "min_height": null,
            "padding": null,
            "grid_auto_rows": null,
            "grid_gap": null,
            "max_width": null,
            "order": null,
            "_view_module_version": "1.2.0",
            "grid_template_areas": null,
            "object_position": null,
            "object_fit": null,
            "grid_auto_columns": null,
            "margin": null,
            "display": null,
            "left": null
          }
        },
        "442003e763824bbe949d2f4209f9e78e": {
          "model_module": "@jupyter-widgets/base",
          "model_name": "LayoutModel",
          "state": {
            "_view_name": "LayoutView",
            "grid_template_rows": null,
            "right": null,
            "justify_content": null,
            "_view_module": "@jupyter-widgets/base",
            "overflow": null,
            "_model_module_version": "1.2.0",
            "_view_count": null,
            "flex_flow": null,
            "width": null,
            "min_width": null,
            "border": null,
            "align_items": null,
            "bottom": null,
            "_model_module": "@jupyter-widgets/base",
            "top": null,
            "grid_column": null,
            "overflow_y": null,
            "overflow_x": null,
            "grid_auto_flow": null,
            "grid_area": null,
            "grid_template_columns": null,
            "flex": null,
            "_model_name": "LayoutModel",
            "justify_items": null,
            "grid_row": null,
            "max_height": null,
            "align_content": null,
            "visibility": null,
            "align_self": null,
            "height": null,
            "min_height": null,
            "padding": null,
            "grid_auto_rows": null,
            "grid_gap": null,
            "max_width": null,
            "order": null,
            "_view_module_version": "1.2.0",
            "grid_template_areas": null,
            "object_position": null,
            "object_fit": null,
            "grid_auto_columns": null,
            "margin": null,
            "display": null,
            "left": null
          }
        },
        "9bb5fd2f979841e48756b2209fcbdfed": {
          "model_module": "@jupyter-widgets/controls",
          "model_name": "VBoxModel",
          "state": {
            "_view_name": "VBoxView",
            "_dom_classes": [
              "widget-interact"
            ],
            "_model_name": "VBoxModel",
            "_view_module": "@jupyter-widgets/controls",
            "_model_module_version": "1.5.0",
            "_view_count": null,
            "_view_module_version": "1.5.0",
            "box_style": "",
            "layout": "IPY_MODEL_4ef7a405b0474709908ab6d628db397e",
            "_model_module": "@jupyter-widgets/controls",
            "children": [
              "IPY_MODEL_39c4c9ec0e7f4e9bb7ba77b6e28c4b2a",
              "IPY_MODEL_92a39bcbb5734c8584e3049d6de3c9ac"
            ]
          }
        },
        "4ef7a405b0474709908ab6d628db397e": {
          "model_module": "@jupyter-widgets/base",
          "model_name": "LayoutModel",
          "state": {
            "_view_name": "LayoutView",
            "grid_template_rows": null,
            "right": null,
            "justify_content": null,
            "_view_module": "@jupyter-widgets/base",
            "overflow": null,
            "_model_module_version": "1.2.0",
            "_view_count": null,
            "flex_flow": null,
            "width": null,
            "min_width": null,
            "border": null,
            "align_items": null,
            "bottom": null,
            "_model_module": "@jupyter-widgets/base",
            "top": null,
            "grid_column": null,
            "overflow_y": null,
            "overflow_x": null,
            "grid_auto_flow": null,
            "grid_area": null,
            "grid_template_columns": null,
            "flex": null,
            "_model_name": "LayoutModel",
            "justify_items": null,
            "grid_row": null,
            "max_height": null,
            "align_content": null,
            "visibility": null,
            "align_self": null,
            "height": null,
            "min_height": null,
            "padding": null,
            "grid_auto_rows": null,
            "grid_gap": null,
            "max_width": null,
            "order": null,
            "_view_module_version": "1.2.0",
            "grid_template_areas": null,
            "object_position": null,
            "object_fit": null,
            "grid_auto_columns": null,
            "margin": null,
            "display": null,
            "left": null
          }
        },
        "39c4c9ec0e7f4e9bb7ba77b6e28c4b2a": {
          "model_module": "@jupyter-widgets/controls",
          "model_name": "IntSliderModel",
          "state": {
            "_view_name": "IntSliderView",
            "style": "IPY_MODEL_a52a8f4eb59e4e869f029fe16f59ae32",
            "_dom_classes": [],
            "description": "ind",
            "step": 1,
            "_model_name": "IntSliderModel",
            "orientation": "horizontal",
            "max": 995,
            "_view_module": "@jupyter-widgets/controls",
            "_model_module_version": "1.5.0",
            "value": 372,
            "_view_count": null,
            "disabled": false,
            "_view_module_version": "1.5.0",
            "min": 0,
            "continuous_update": true,
            "readout_format": "d",
            "description_tooltip": null,
            "readout": true,
            "_model_module": "@jupyter-widgets/controls",
            "layout": "IPY_MODEL_cd2299c809d5406086067eab159da7d6"
          }
        },
        "92a39bcbb5734c8584e3049d6de3c9ac": {
          "model_module": "@jupyter-widgets/output",
          "model_name": "OutputModel",
          "state": {
            "_view_name": "OutputView",
            "msg_id": "",
            "_dom_classes": [],
            "_model_name": "OutputModel",
            "outputs": [
              {
                "output_type": "stream",
                "metadata": {
                  "tags": []
                },
                "text": "sequence sequence learning unconstrained scene text recognition\n{   'learning': [   Synset('learning.n.01'),\n                    Synset('eruditeness.n.01'),\n                    Synset('learn.v.01'),\n                    Synset('learn.v.02'),\n                    Synset('memorize.v.01'),\n                    Synset('learn.v.04'),\n                    Synset('teach.v.01'),\n                    Synset('determine.v.08')],\n    'recognition': [   Synset('recognition.n.01'),\n                       Synset('recognition.n.02'),\n                       Synset('recognition.n.03'),\n                       Synset('realization.n.01'),\n                       Synset('recognition.n.05'),\n                       Synset('recognition.n.06'),\n                       Synset('recognition.n.07'),\n                       Synset('recognition.n.08')],\n    'scene': [   Synset('scene.n.01'),\n                 Synset('scene.n.02'),\n                 Synset('view.n.02'),\n                 Synset('scene.n.04'),\n                 Synset('picture.n.04'),\n                 Synset('scene.n.06'),\n                 Synset('fit.n.01'),\n                 Synset('scene.n.08'),\n                 Synset('setting.n.01'),\n                 Synset('scenery.n.01')],\n    'sequence': [   Synset('sequence.n.01'),\n                    Synset('sequence.n.02'),\n                    Synset('sequence.n.03'),\n                    Synset('succession.n.03'),\n                    Synset('sequence.n.05'),\n                    Synset('sequence.v.01'),\n                    Synset('sequence.v.02')],\n    'text': [   Synset('text.n.01'),\n                Synset('text.n.02'),\n                Synset('textbook.n.01'),\n                Synset('text.n.04')],\n    'unconstrained': [Synset('unconstrained.s.01')]}\n",
                "stream": "stdout"
              }
            ],
            "_view_module": "@jupyter-widgets/output",
            "_model_module_version": "1.0.0",
            "_view_count": null,
            "_view_module_version": "1.0.0",
            "layout": "IPY_MODEL_0add52143cf14036a45a1c91e0ba4793",
            "_model_module": "@jupyter-widgets/output"
          }
        },
        "a52a8f4eb59e4e869f029fe16f59ae32": {
          "model_module": "@jupyter-widgets/controls",
          "model_name": "SliderStyleModel",
          "state": {
            "_view_name": "StyleView",
            "handle_color": null,
            "_model_name": "SliderStyleModel",
            "description_width": "",
            "_view_module": "@jupyter-widgets/base",
            "_model_module_version": "1.5.0",
            "_view_count": null,
            "_view_module_version": "1.2.0",
            "_model_module": "@jupyter-widgets/controls"
          }
        },
        "cd2299c809d5406086067eab159da7d6": {
          "model_module": "@jupyter-widgets/base",
          "model_name": "LayoutModel",
          "state": {
            "_view_name": "LayoutView",
            "grid_template_rows": null,
            "right": null,
            "justify_content": null,
            "_view_module": "@jupyter-widgets/base",
            "overflow": null,
            "_model_module_version": "1.2.0",
            "_view_count": null,
            "flex_flow": null,
            "width": null,
            "min_width": null,
            "border": null,
            "align_items": null,
            "bottom": null,
            "_model_module": "@jupyter-widgets/base",
            "top": null,
            "grid_column": null,
            "overflow_y": null,
            "overflow_x": null,
            "grid_auto_flow": null,
            "grid_area": null,
            "grid_template_columns": null,
            "flex": null,
            "_model_name": "LayoutModel",
            "justify_items": null,
            "grid_row": null,
            "max_height": null,
            "align_content": null,
            "visibility": null,
            "align_self": null,
            "height": null,
            "min_height": null,
            "padding": null,
            "grid_auto_rows": null,
            "grid_gap": null,
            "max_width": null,
            "order": null,
            "_view_module_version": "1.2.0",
            "grid_template_areas": null,
            "object_position": null,
            "object_fit": null,
            "grid_auto_columns": null,
            "margin": null,
            "display": null,
            "left": null
          }
        },
        "0add52143cf14036a45a1c91e0ba4793": {
          "model_module": "@jupyter-widgets/base",
          "model_name": "LayoutModel",
          "state": {
            "_view_name": "LayoutView",
            "grid_template_rows": null,
            "right": null,
            "justify_content": null,
            "_view_module": "@jupyter-widgets/base",
            "overflow": null,
            "_model_module_version": "1.2.0",
            "_view_count": null,
            "flex_flow": null,
            "width": null,
            "min_width": null,
            "border": null,
            "align_items": null,
            "bottom": null,
            "_model_module": "@jupyter-widgets/base",
            "top": null,
            "grid_column": null,
            "overflow_y": null,
            "overflow_x": null,
            "grid_auto_flow": null,
            "grid_area": null,
            "grid_template_columns": null,
            "flex": null,
            "_model_name": "LayoutModel",
            "justify_items": null,
            "grid_row": null,
            "max_height": null,
            "align_content": null,
            "visibility": null,
            "align_self": null,
            "height": null,
            "min_height": null,
            "padding": null,
            "grid_auto_rows": null,
            "grid_gap": null,
            "max_width": null,
            "order": null,
            "_view_module_version": "1.2.0",
            "grid_template_areas": null,
            "object_position": null,
            "object_fit": null,
            "grid_auto_columns": null,
            "margin": null,
            "display": null,
            "left": null
          }
        }
      }
    }
  },
  "cells": [
    {
      "cell_type": "markdown",
      "metadata": {
        "id": "view-in-github",
        "colab_type": "text"
      },
      "source": [
        "<a href=\"https://colab.research.google.com/github/rauan-assabayev/NLP/blob/master/lab7/HypernymTitles.ipynb\" target=\"_parent\"><img src=\"https://colab.research.google.com/assets/colab-badge.svg\" alt=\"Open In Colab\"/></a>"
      ]
    },
    {
      "cell_type": "markdown",
      "metadata": {
        "id": "M8l3bkbVRX6Z",
        "colab_type": "text"
      },
      "source": [
        "#### Lab 7 \n",
        "#### Rouge Metrics"
      ]
    },
    {
      "cell_type": "code",
      "metadata": {
        "id": "O7MI7RaVSPVG",
        "colab_type": "code",
        "colab": {
          "base_uri": "https://localhost:8080/",
          "height": 71
        },
        "outputId": "8f125a7e-612b-4fab-fab5-e410c7ed85f8"
      },
      "source": [
        "import pandas as pd\n",
        "from nltk.corpus import stopwords\n",
        "from nltk.corpus import wordnet as wn\n",
        "import numpy as np\n",
        "from fuzzywuzzy import fuzz\n",
        "import ipywidgets as widgets\n",
        "import pprint\n",
        "from ipywidgets import interact, interact_manual\n",
        "import re\n",
        "__PATH__ = \"https://raw.githubusercontent.com/rauan-assabayev/NLP/master/lab7/data.csv\""
      ],
      "execution_count": 4,
      "outputs": [
        {
          "output_type": "stream",
          "text": [
            "/usr/local/lib/python3.6/dist-packages/fuzzywuzzy/fuzz.py:11: UserWarning: Using slow pure-python SequenceMatcher. Install python-Levenshtein to remove this warning\n",
            "  warnings.warn('Using slow pure-python SequenceMatcher. Install python-Levenshtein to remove this warning')\n"
          ],
          "name": "stderr"
        }
      ]
    },
    {
      "cell_type": "code",
      "metadata": {
        "id": "x_UsG85VSaep",
        "colab_type": "code",
        "colab": {
          "base_uri": "https://localhost:8080/",
          "height": 102
        },
        "outputId": "b6cd3b74-a335-482a-8918-2dbef06d3ce0"
      },
      "source": [
        "import nltk\n",
        "nltk.download('stopwords')\n",
        "nltk.download('wordnet')"
      ],
      "execution_count": 5,
      "outputs": [
        {
          "output_type": "stream",
          "text": [
            "[nltk_data] Downloading package stopwords to /root/nltk_data...\n",
            "[nltk_data]   Package stopwords is already up-to-date!\n",
            "[nltk_data] Downloading package wordnet to /root/nltk_data...\n",
            "[nltk_data]   Package wordnet is already up-to-date!\n"
          ],
          "name": "stdout"
        },
        {
          "output_type": "execute_result",
          "data": {
            "text/plain": [
              "True"
            ]
          },
          "metadata": {
            "tags": []
          },
          "execution_count": 5
        }
      ]
    },
    {
      "cell_type": "code",
      "metadata": {
        "id": "ABydTJZzSzpq",
        "colab_type": "code",
        "colab": {
          "base_uri": "https://localhost:8080/",
          "height": 598
        },
        "outputId": "95568afd-74bf-4959-ff16-b044039624e7"
      },
      "source": [
        "df = pd.read_csv(__PATH__,sep=\";\",header=0)\n",
        "df.head(5)"
      ],
      "execution_count": 6,
      "outputs": [
        {
          "output_type": "execute_result",
          "data": {
            "text/html": [
              "<div>\n",
              "<style scoped>\n",
              "    .dataframe tbody tr th:only-of-type {\n",
              "        vertical-align: middle;\n",
              "    }\n",
              "\n",
              "    .dataframe tbody tr th {\n",
              "        vertical-align: top;\n",
              "    }\n",
              "\n",
              "    .dataframe thead th {\n",
              "        text-align: right;\n",
              "    }\n",
              "</style>\n",
              "<table border=\"1\" class=\"dataframe\">\n",
              "  <thead>\n",
              "    <tr style=\"text-align: right;\">\n",
              "      <th></th>\n",
              "      <th>id</th>\n",
              "      <th>updatedDate</th>\n",
              "      <th>publishedDate</th>\n",
              "      <th>title</th>\n",
              "      <th>summary</th>\n",
              "      <th>authors</th>\n",
              "      <th>category</th>\n",
              "      <th>metaData</th>\n",
              "      <th>downloadLink</th>\n",
              "      <th>filePath</th>\n",
              "    </tr>\n",
              "  </thead>\n",
              "  <tbody>\n",
              "    <tr>\n",
              "      <th>0</th>\n",
              "      <td>http://arxiv.org/abs/1407.6950v1</td>\n",
              "      <td>2014-07-24T16:56:39Z</td>\n",
              "      <td>2014-07-24T16:56:39Z</td>\n",
              "      <td>How,whenAndHowMuchACardDeckIsWellShuffled.pdf</td>\n",
              "      <td>The Thesis Consider The Mixing Of Few  3 4  ...</td>\n",
              "      <td>Benjamin Isac Fargion</td>\n",
              "      <td>cs.DM</td>\n",
              "      <td>Italian Thesis In Engeenering Computer, 26 Feb...</td>\n",
              "      <td>http://arxiv.org/pdf/1407.6950v1.pdf</td>\n",
              "      <td>./files/How,whenAndHowMuchACardDeckIsWellShuff...</td>\n",
              "    </tr>\n",
              "    <tr>\n",
              "      <th>1</th>\n",
              "      <td>http://arxiv.org/abs/0907.0618v1</td>\n",
              "      <td>2009-07-03T12:35:10Z</td>\n",
              "      <td>2009-07-03T12:35:10Z</td>\n",
              "      <td>QuantumIsometryGroups.pdf</td>\n",
              "      <td>This Thesis Contains The Formulation And Com...</td>\n",
              "      <td>Jyotishman Bhowmick</td>\n",
              "      <td>math.OA</td>\n",
              "      <td>Thesis</td>\n",
              "      <td>http://arxiv.org/pdf/0907.0618v1.pdf</td>\n",
              "      <td>./files/QuantumIsometryGroups.pdf</td>\n",
              "    </tr>\n",
              "    <tr>\n",
              "      <th>2</th>\n",
              "      <td>http://arxiv.org/abs/1806.09601v2</td>\n",
              "      <td>2018-07-14T17:06:27Z</td>\n",
              "      <td>2018-06-25T17:55:59Z</td>\n",
              "      <td>ComputationAndBoundingOfFolkmanNumbers.pdf</td>\n",
              "      <td>Phd Thesis Under The Supervision Of Professo...</td>\n",
              "      <td>Aleksandar Bikov</td>\n",
              "      <td>math.CO</td>\n",
              "      <td>PhD Thesis</td>\n",
              "      <td>http://arxiv.org/pdf/1806.09601v2.pdf</td>\n",
              "      <td>./files/ComputationAndBoundingOfFolkmanNumbers...</td>\n",
              "    </tr>\n",
              "    <tr>\n",
              "      <th>3</th>\n",
              "      <td>http://arxiv.org/abs/1905.03014v1</td>\n",
              "      <td>2019-05-08T11:47:34Z</td>\n",
              "      <td>2019-05-08T11:47:34Z</td>\n",
              "      <td>OnChurch'sThesisInCubicalAssemblies.pdf</td>\n",
              "      <td>We Show That Church's Thesis, The Axiom Stat...</td>\n",
              "      <td>Andrew Swan, Taichi Uemura,</td>\n",
              "      <td>math.LO</td>\n",
              "      <td>0</td>\n",
              "      <td>http://arxiv.org/pdf/1905.03014v1.pdf</td>\n",
              "      <td>./files/OnChurch'sThesisInCubicalAssemblies.pdf</td>\n",
              "    </tr>\n",
              "    <tr>\n",
              "      <th>4</th>\n",
              "      <td>http://arxiv.org/abs/1901.04911v1</td>\n",
              "      <td>2019-01-15T16:24:07Z</td>\n",
              "      <td>2019-01-15T16:24:07Z</td>\n",
              "      <td>UnconstrainedChurchTuringThesisCannotPossiblyB...</td>\n",
              "      <td>The Church Turing Thesis Asserts That If A P...</td>\n",
              "      <td>Yuri Gurevich</td>\n",
              "      <td>cs.LO</td>\n",
              "      <td>0</td>\n",
              "      <td>http://arxiv.org/pdf/1901.04911v1.pdf</td>\n",
              "      <td>./files/UnconstrainedChurchTuringThesisCannotP...</td>\n",
              "    </tr>\n",
              "  </tbody>\n",
              "</table>\n",
              "</div>"
            ],
            "text/plain": [
              "                                  id  ...                                           filePath\n",
              "0   http://arxiv.org/abs/1407.6950v1  ...  ./files/How,whenAndHowMuchACardDeckIsWellShuff...\n",
              "1   http://arxiv.org/abs/0907.0618v1  ...                  ./files/QuantumIsometryGroups.pdf\n",
              "2  http://arxiv.org/abs/1806.09601v2  ...  ./files/ComputationAndBoundingOfFolkmanNumbers...\n",
              "3  http://arxiv.org/abs/1905.03014v1  ...    ./files/OnChurch'sThesisInCubicalAssemblies.pdf\n",
              "4  http://arxiv.org/abs/1901.04911v1  ...  ./files/UnconstrainedChurchTuringThesisCannotP...\n",
              "\n",
              "[5 rows x 10 columns]"
            ]
          },
          "metadata": {
            "tags": []
          },
          "execution_count": 6
        }
      ]
    },
    {
      "cell_type": "markdown",
      "metadata": {
        "id": "MK2av7URS7x2",
        "colab_type": "text"
      },
      "source": [
        "**Preprocessing the title to list of tokens**"
      ]
    },
    {
      "cell_type": "code",
      "metadata": {
        "id": "RfWSwHcfS_ky",
        "colab_type": "code",
        "colab": {}
      },
      "source": [
        "titles = list(df['title'].apply(\n",
        "    lambda t : \n",
        "        tuple(\n",
        "            filter(lambda e:not e in stopwords.words('english'),\n",
        "                map(lambda e:e.lower(),\n",
        "                       re.findall('([A-Z]{1}[a-z]+)',t.replace('.pdf','')))\n",
        "                )\n",
        "            )\n",
        "        )\n",
        "    )"
      ],
      "execution_count": 0,
      "outputs": []
    },
    {
      "cell_type": "code",
      "metadata": {
        "id": "SbsfilfeTDjO",
        "colab_type": "code",
        "colab": {}
      },
      "source": [
        "res = {}\n",
        "for title in titles:\n",
        "    synsets = {}\n",
        "    for word in title:\n",
        "        synsets[word]=[synset for synset in wn.synsets(word)]\n",
        "    res[title] = synsets"
      ],
      "execution_count": 0,
      "outputs": []
    },
    {
      "cell_type": "code",
      "metadata": {
        "id": "jgRLgUgsTHCf",
        "colab_type": "code",
        "colab": {}
      },
      "source": [
        "def get_hyper1(data):\n",
        "    hypernyms1 = []\n",
        "    synsets_ = wn.synsets(data) \n",
        "    for s in range(len(synsets_)):\n",
        "        hypernyms1.extend(wn.synsets(data)[s].hypernyms()) \n",
        "    hyper = set(hypernyms1)\n",
        "    return hyper"
      ],
      "execution_count": 0,
      "outputs": []
    },
    {
      "cell_type": "code",
      "metadata": {
        "id": "5y5nPnraTJjA",
        "colab_type": "code",
        "colab": {}
      },
      "source": [
        "def get_hyper2(data):\n",
        "    hyper1 = get_hyper1(data)\n",
        "    hypernyms2 = []\n",
        "    for hypernym1 in hyper1:\n",
        "        hypernyms2.extend(hypernym1.hypernyms())\n",
        "    hyper = set(hypernyms2)\n",
        "    return hyper"
      ],
      "execution_count": 0,
      "outputs": []
    },
    {
      "cell_type": "code",
      "metadata": {
        "id": "vjzS2Uj6TMI5",
        "colab_type": "code",
        "colab": {}
      },
      "source": [
        "def f_score(y_true, y_pred):\n",
        "    inter = y_true.intersection(y_pred)\n",
        "    cross_size = len(y_true & y_pred)\n",
        "    if cross_size == 0: \n",
        "        return inter, 0\n",
        "    else:\n",
        "        p = 1. * cross_size / len(y_pred)\n",
        "        r = 1. * cross_size / len(y_true)\n",
        "        return inter, 2 * p * r / (p + r)"
      ],
      "execution_count": 0,
      "outputs": []
    },
    {
      "cell_type": "code",
      "metadata": {
        "id": "xRkosuF-TRau",
        "colab_type": "code",
        "colab": {}
      },
      "source": [
        "def distance(a,b):\n",
        "    ### Put your code here\n",
        "    a = set(a)\n",
        "    b = set(b) \n",
        "    inter, f1_score = f_score(a,b)\n",
        "    \n",
        "    a = a - inter \n",
        "    b = b - inter \n",
        "    \n",
        "    if len(a) == 0 or len(b) == 0: \n",
        "        result = 1 - f1_score\n",
        "    else: \n",
        "        penalty = 0\n",
        "        # first layer hypernyms\n",
        "        for word_a in a:\n",
        "            for word_b in b:\n",
        "                var_hyp1 = get_hyper1(word_a)\n",
        "                var_hyp2 = get_hyper1(word_b)\n",
        "                num_hyper1 = len(var_hyp1.intersection(var_hyp2))    \n",
        "                if (num_hyper1 > 0):\n",
        "                    penalty = penalty + 0.6\n",
        "                    # in case not in first layer of hypernyms\n",
        "                if (num_hyper1 == 0):\n",
        "                    var_hyp3 = get_hyper2(word_a)\n",
        "                    var_hyp4 = get_hyper2(word_b)\n",
        "                    num_hyper2 = len(var_hyp3.intersection(var_hyp4)) \n",
        "                    + len(var_hyp3.intersection(var_hyp2)) \n",
        "                    + len(var_hyp1.intersection(var_hyp4)) \n",
        "                    if (num_hyper2 > 0):\n",
        "                        penalty = penalty + 0.4\n",
        "        \n",
        "        if penalty > 0:\n",
        "            prec_penalty = penalty/len(a)\n",
        "            recall_penalty = penalty/len(b)\n",
        "            fscore_penalty = 2 * (prec_penalty * recall_penalty) / (prec_penalty + recall_penalty)\n",
        "        else:\n",
        "            fscore_penalty = 0\n",
        "                                                    \n",
        "        result = 1 - (2 * f1_score + fscore_penalty)/3   \n",
        "    \n",
        "    return result"
      ],
      "execution_count": 0,
      "outputs": []
    },
    {
      "cell_type": "code",
      "metadata": {
        "id": "gTuDKO5lTUrr",
        "colab_type": "code",
        "colab": {}
      },
      "source": [
        "buff = list(res.items())\n",
        "dist = np.zeros((len(buff),len(buff)))\n",
        "for lli,ll in enumerate(buff):\n",
        "    for rri,rr in enumerate(buff):\n",
        "        dist[lli,rri]=distance(ll[0],rr[0])"
      ],
      "execution_count": 0,
      "outputs": []
    },
    {
      "cell_type": "markdown",
      "metadata": {
        "id": "chnZnzBsRfl3",
        "colab_type": "text"
      },
      "source": [
        "\n",
        "**Top ten closest articles with fuzzy metrics of titles**"
      ]
    },
    {
      "cell_type": "code",
      "metadata": {
        "id": "A5q3NjGMRmkK",
        "colab_type": "code",
        "colab": {
          "base_uri": "https://localhost:8080/",
          "height": 882,
          "referenced_widgets": [
            "d362c4dbdbeb47bfaf1477a48a83b8c4",
            "35f68182a060456a9bcafe4e53e6feaa",
            "986323e85d3a4fd1931861fa82e5341c",
            "7c41ee9516704f91a297ef0969ad301d",
            "7a3a9743144f481bba42bbc8ee541ec4",
            "a94ee18831e145199af47a0678ba3fa1",
            "442003e763824bbe949d2f4209f9e78e"
          ]
        },
        "outputId": "099087a5-8bb8-49a5-dd55-d5cc2fccaddb"
      },
      "source": [
        "@interact(ind=(0,len(buff)-1,1))\n",
        "def h(ind=0):\n",
        "    pp = pprint.PrettyPrinter(indent=4)\n",
        "    print(' '.join(buff[ind][0]))\n",
        "    pp.pprint([buff[i][0] for i in dist[ind][:].argsort()[1:11]])"
      ],
      "execution_count": 14,
      "outputs": [
        {
          "output_type": "display_data",
          "data": {
            "application/vnd.jupyter.widget-view+json": {
              "model_id": "d362c4dbdbeb47bfaf1477a48a83b8c4",
              "version_minor": 0,
              "version_major": 2
            },
            "text/plain": [
              "interactive(children=(IntSlider(value=0, description='ind', max=995), Output()), _dom_classes=('widget-interac…"
            ]
          },
          "metadata": {
            "tags": []
          }
        }
      ]
    },
    {
      "cell_type": "code",
      "metadata": {
        "id": "LrrMEgeLRte-",
        "colab_type": "code",
        "colab": {
          "base_uri": "https://localhost:8080/",
          "height": 712,
          "referenced_widgets": [
            "9bb5fd2f979841e48756b2209fcbdfed",
            "4ef7a405b0474709908ab6d628db397e",
            "39c4c9ec0e7f4e9bb7ba77b6e28c4b2a",
            "92a39bcbb5734c8584e3049d6de3c9ac",
            "a52a8f4eb59e4e869f029fe16f59ae32",
            "cd2299c809d5406086067eab159da7d6",
            "0add52143cf14036a45a1c91e0ba4793"
          ]
        },
        "outputId": "1314559e-f4e7-462f-c906-dca11e4cdd4e"
      },
      "source": [
        "@interact(ind=(0,len(buff)-1,1))\n",
        "def hypernyms(ind=0):\n",
        "    pp = pprint.PrettyPrinter(indent=4)\n",
        "    print(' '.join(buff[ind][0]))\n",
        "    pp.pprint(buff[ind][1])"
      ],
      "execution_count": 15,
      "outputs": [
        {
          "output_type": "display_data",
          "data": {
            "application/vnd.jupyter.widget-view+json": {
              "model_id": "9bb5fd2f979841e48756b2209fcbdfed",
              "version_minor": 0,
              "version_major": 2
            },
            "text/plain": [
              "interactive(children=(IntSlider(value=0, description='ind', max=995), Output()), _dom_classes=('widget-interac…"
            ]
          },
          "metadata": {
            "tags": []
          }
        }
      ]
    }
  ]
}