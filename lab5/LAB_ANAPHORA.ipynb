{
  "nbformat": 4,
  "nbformat_minor": 0,
  "metadata": {
    "kernelspec": {
      "display_name": "Python 3",
      "language": "python",
      "name": "python3"
    },
    "language_info": {
      "codemirror_mode": {
        "name": "ipython",
        "version": 3
      },
      "file_extension": ".py",
      "mimetype": "text/x-python",
      "name": "python",
      "nbconvert_exporter": "python",
      "pygments_lexer": "ipython3",
      "version": "3.7.4"
    },
    "colab": {
      "name": "LAB-ANAPHORA.ipynb",
      "provenance": [],
      "include_colab_link": true
    }
  },
  "cells": [
    {
      "cell_type": "markdown",
      "metadata": {
        "id": "view-in-github",
        "colab_type": "text"
      },
      "source": [
        "<a href=\"https://colab.research.google.com/github/rauan-assabayev/NLP/blob/master/lab5/LAB_ANAPHORA.ipynb\" target=\"_parent\"><img src=\"https://colab.research.google.com/assets/colab-badge.svg\" alt=\"Open In Colab\"/></a>"
      ]
    },
    {
      "cell_type": "markdown",
      "metadata": {
        "id": "xQFxnUjZ9pp0",
        "colab_type": "text"
      },
      "source": [
        "### Anaphora resolution"
      ]
    },
    {
      "cell_type": "markdown",
      "metadata": {
        "id": "XolFNJxH9pp1",
        "colab_type": "text"
      },
      "source": [
        "1) Get the pretrained model of FastText from https://fasttext.cc/docs/en/english-vectors.html"
      ]
    },
    {
      "cell_type": "markdown",
      "metadata": {
        "id": "GWc0Xsdx9pp1",
        "colab_type": "text"
      },
      "source": [
        "2) At the pytorch develop a model, that is a feed forward neural network that consists of three layers, an input layer of size 600, a first layer of size 300, a second layer of 80 and an output layer with two units, all layers have regularization and dropout. The activation function on all layers is ReLU"
      ]
    },
    {
      "cell_type": "markdown",
      "metadata": {
        "id": "xlmu5Hrp9pp2",
        "colab_type": "text"
      },
      "source": [
        "![scheme.jpg](attachment:scheme.jpg)"
      ]
    },
    {
      "cell_type": "code",
      "metadata": {
        "id": "ofhKZVIW9pp3",
        "colab_type": "code",
        "colab": {}
      },
      "source": [
        "import pandas as pd"
      ],
      "execution_count": 0,
      "outputs": []
    },
    {
      "cell_type": "code",
      "metadata": {
        "id": "satf0n9T9pp5",
        "colab_type": "code",
        "colab": {}
      },
      "source": [
        "df_dev = pd.read_csv('https://raw.githubusercontent.com/rauan-assabayev/NLP/master/lab5/gap-development.tsv',sep='\\t')"
      ],
      "execution_count": 0,
      "outputs": []
    },
    {
      "cell_type": "markdown",
      "metadata": {
        "id": "_BIuyDWg9pp8",
        "colab_type": "text"
      },
      "source": [
        "The task is to identify the target of a pronoun within a text passage. The source text is taken from Wikipedia articles. In the dataset, there are labels of the pronoun and two candidate names to which the pronoun could refer. An algorithm should be capable of deciding whether the pronoun refers to name A, name B, or neither.  \n",
        "There are the following columns for analysis:\n",
        "* ID - Unique identifier for an example (Matches to Id in output file format);\n",
        "* Text - Text containing the ambiguous pronoun and two candidate names (about a paragraph in length);\n",
        "* Text - Text containing the ambiguous pronoun and two candidate names (about a paragraph in length);\n",
        "* Pronoun - The target pronoun (text);\n",
        "* Pronoun-offset The character offset of Pronoun in Text;\n",
        "* A - The first name candidate (text);\n",
        "* A-offset - The character offset of name A in Text;\n",
        "* B - The second name candidate;\n",
        "* B-offset - The character offset of name B in Text;\n",
        "* URL - The URL of the source Wikipedia page for the example;\n"
      ]
    },
    {
      "cell_type": "code",
      "metadata": {
        "id": "-xIxUh-P9pp9",
        "colab_type": "code",
        "colab": {
          "base_uri": "https://localhost:8080/",
          "height": 606
        },
        "outputId": "ee70a2b1-c1f8-4d52-8397-00c59c63c87a"
      },
      "source": [
        "df_dev"
      ],
      "execution_count": 4,
      "outputs": [
        {
          "output_type": "execute_result",
          "data": {
            "text/html": [
              "<div>\n",
              "<style scoped>\n",
              "    .dataframe tbody tr th:only-of-type {\n",
              "        vertical-align: middle;\n",
              "    }\n",
              "\n",
              "    .dataframe tbody tr th {\n",
              "        vertical-align: top;\n",
              "    }\n",
              "\n",
              "    .dataframe thead th {\n",
              "        text-align: right;\n",
              "    }\n",
              "</style>\n",
              "<table border=\"1\" class=\"dataframe\">\n",
              "  <thead>\n",
              "    <tr style=\"text-align: right;\">\n",
              "      <th></th>\n",
              "      <th>ID</th>\n",
              "      <th>Text</th>\n",
              "      <th>Pronoun</th>\n",
              "      <th>Pronoun-offset</th>\n",
              "      <th>A</th>\n",
              "      <th>A-offset</th>\n",
              "      <th>A-coref</th>\n",
              "      <th>B</th>\n",
              "      <th>B-offset</th>\n",
              "      <th>B-coref</th>\n",
              "      <th>URL</th>\n",
              "    </tr>\n",
              "  </thead>\n",
              "  <tbody>\n",
              "    <tr>\n",
              "      <th>0</th>\n",
              "      <td>development-1</td>\n",
              "      <td>Zoe Telford -- played the police officer girlf...</td>\n",
              "      <td>her</td>\n",
              "      <td>274</td>\n",
              "      <td>Cheryl Cassidy</td>\n",
              "      <td>191</td>\n",
              "      <td>True</td>\n",
              "      <td>Pauline</td>\n",
              "      <td>207</td>\n",
              "      <td>False</td>\n",
              "      <td>http://en.wikipedia.org/wiki/List_of_Teachers_...</td>\n",
              "    </tr>\n",
              "    <tr>\n",
              "      <th>1</th>\n",
              "      <td>development-2</td>\n",
              "      <td>He grew up in Evanston, Illinois the second ol...</td>\n",
              "      <td>His</td>\n",
              "      <td>284</td>\n",
              "      <td>MacKenzie</td>\n",
              "      <td>228</td>\n",
              "      <td>True</td>\n",
              "      <td>Bernard Leach</td>\n",
              "      <td>251</td>\n",
              "      <td>False</td>\n",
              "      <td>http://en.wikipedia.org/wiki/Warren_MacKenzie</td>\n",
              "    </tr>\n",
              "    <tr>\n",
              "      <th>2</th>\n",
              "      <td>development-3</td>\n",
              "      <td>He had been reelected to Congress, but resigne...</td>\n",
              "      <td>his</td>\n",
              "      <td>265</td>\n",
              "      <td>Angeloz</td>\n",
              "      <td>173</td>\n",
              "      <td>False</td>\n",
              "      <td>De la Sota</td>\n",
              "      <td>246</td>\n",
              "      <td>True</td>\n",
              "      <td>http://en.wikipedia.org/wiki/Jos%C3%A9_Manuel_...</td>\n",
              "    </tr>\n",
              "    <tr>\n",
              "      <th>3</th>\n",
              "      <td>development-4</td>\n",
              "      <td>The current members of Crime have also perform...</td>\n",
              "      <td>his</td>\n",
              "      <td>321</td>\n",
              "      <td>Hell</td>\n",
              "      <td>174</td>\n",
              "      <td>False</td>\n",
              "      <td>Henry Rosenthal</td>\n",
              "      <td>336</td>\n",
              "      <td>True</td>\n",
              "      <td>http://en.wikipedia.org/wiki/Crime_(band)</td>\n",
              "    </tr>\n",
              "    <tr>\n",
              "      <th>4</th>\n",
              "      <td>development-5</td>\n",
              "      <td>Her Santa Fe Opera debut in 2005 was as Nuria ...</td>\n",
              "      <td>She</td>\n",
              "      <td>437</td>\n",
              "      <td>Kitty Oppenheimer</td>\n",
              "      <td>219</td>\n",
              "      <td>False</td>\n",
              "      <td>Rivera</td>\n",
              "      <td>294</td>\n",
              "      <td>True</td>\n",
              "      <td>http://en.wikipedia.org/wiki/Jessica_Rivera</td>\n",
              "    </tr>\n",
              "    <tr>\n",
              "      <th>...</th>\n",
              "      <td>...</td>\n",
              "      <td>...</td>\n",
              "      <td>...</td>\n",
              "      <td>...</td>\n",
              "      <td>...</td>\n",
              "      <td>...</td>\n",
              "      <td>...</td>\n",
              "      <td>...</td>\n",
              "      <td>...</td>\n",
              "      <td>...</td>\n",
              "      <td>...</td>\n",
              "    </tr>\n",
              "    <tr>\n",
              "      <th>1995</th>\n",
              "      <td>development-1996</td>\n",
              "      <td>Faye's third husband, Paul Resnick, reported t...</td>\n",
              "      <td>her</td>\n",
              "      <td>433</td>\n",
              "      <td>Nicole</td>\n",
              "      <td>255</td>\n",
              "      <td>False</td>\n",
              "      <td>Faye</td>\n",
              "      <td>328</td>\n",
              "      <td>True</td>\n",
              "      <td>http://en.wikipedia.org/wiki/Faye_Resnick</td>\n",
              "    </tr>\n",
              "    <tr>\n",
              "      <th>1996</th>\n",
              "      <td>development-1997</td>\n",
              "      <td>The plot of the film focuses on the life of a ...</td>\n",
              "      <td>her</td>\n",
              "      <td>246</td>\n",
              "      <td>Doris Chu</td>\n",
              "      <td>111</td>\n",
              "      <td>False</td>\n",
              "      <td>Mei</td>\n",
              "      <td>215</td>\n",
              "      <td>True</td>\n",
              "      <td>http://en.wikipedia.org/wiki/Two_Lies</td>\n",
              "    </tr>\n",
              "    <tr>\n",
              "      <th>1997</th>\n",
              "      <td>development-1998</td>\n",
              "      <td>Grant played the part in Trevor Nunn's movie a...</td>\n",
              "      <td>she</td>\n",
              "      <td>348</td>\n",
              "      <td>Maria</td>\n",
              "      <td>259</td>\n",
              "      <td>True</td>\n",
              "      <td>Imelda Staunton</td>\n",
              "      <td>266</td>\n",
              "      <td>False</td>\n",
              "      <td>http://en.wikipedia.org/wiki/Sir_Andrew_Aguecheek</td>\n",
              "    </tr>\n",
              "    <tr>\n",
              "      <th>1998</th>\n",
              "      <td>development-1999</td>\n",
              "      <td>The fashion house specialised in hand-printed ...</td>\n",
              "      <td>She</td>\n",
              "      <td>284</td>\n",
              "      <td>Helen</td>\n",
              "      <td>145</td>\n",
              "      <td>True</td>\n",
              "      <td>Suzanne Bartsch</td>\n",
              "      <td>208</td>\n",
              "      <td>False</td>\n",
              "      <td>http://en.wikipedia.org/wiki/Helen_David</td>\n",
              "    </tr>\n",
              "    <tr>\n",
              "      <th>1999</th>\n",
              "      <td>development-2000</td>\n",
              "      <td>Watkins was a close friend of Hess' first wife...</td>\n",
              "      <td>her</td>\n",
              "      <td>373</td>\n",
              "      <td>Elizabeth</td>\n",
              "      <td>293</td>\n",
              "      <td>False</td>\n",
              "      <td>Watkins</td>\n",
              "      <td>347</td>\n",
              "      <td>True</td>\n",
              "      <td>http://en.wikipedia.org/wiki/Linda_Watkins</td>\n",
              "    </tr>\n",
              "  </tbody>\n",
              "</table>\n",
              "<p>2000 rows × 11 columns</p>\n",
              "</div>"
            ],
            "text/plain": [
              "                    ID  ...                                                URL\n",
              "0        development-1  ...  http://en.wikipedia.org/wiki/List_of_Teachers_...\n",
              "1        development-2  ...      http://en.wikipedia.org/wiki/Warren_MacKenzie\n",
              "2        development-3  ...  http://en.wikipedia.org/wiki/Jos%C3%A9_Manuel_...\n",
              "3        development-4  ...          http://en.wikipedia.org/wiki/Crime_(band)\n",
              "4        development-5  ...        http://en.wikipedia.org/wiki/Jessica_Rivera\n",
              "...                ...  ...                                                ...\n",
              "1995  development-1996  ...          http://en.wikipedia.org/wiki/Faye_Resnick\n",
              "1996  development-1997  ...              http://en.wikipedia.org/wiki/Two_Lies\n",
              "1997  development-1998  ...  http://en.wikipedia.org/wiki/Sir_Andrew_Aguecheek\n",
              "1998  development-1999  ...           http://en.wikipedia.org/wiki/Helen_David\n",
              "1999  development-2000  ...         http://en.wikipedia.org/wiki/Linda_Watkins\n",
              "\n",
              "[2000 rows x 11 columns]"
            ]
          },
          "metadata": {
            "tags": []
          },
          "execution_count": 4
        }
      ]
    },
    {
      "cell_type": "code",
      "metadata": {
        "id": "LSzkPHdQ9pqB",
        "colab_type": "code",
        "colab": {
          "base_uri": "https://localhost:8080/",
          "height": 54
        },
        "outputId": "f9f8c4d5-584a-4f72-a954-cf787d94539b"
      },
      "source": [
        "df_dev.iloc[0]['Text']"
      ],
      "execution_count": 5,
      "outputs": [
        {
          "output_type": "execute_result",
          "data": {
            "text/plain": [
              "\"Zoe Telford -- played the police officer girlfriend of Simon, Maggie. Dumped by Simon in the final episode of series 1, after he slept with Jenny, and is not seen again. Phoebe Thomas played Cheryl Cassidy, Pauline's friend and also a year 11 pupil in Simon's class. Dumped her boyfriend following Simon's advice after he wouldn't have sex with her but later realised this was due to him catching crabs off her friend Pauline.\""
            ]
          },
          "metadata": {
            "tags": []
          },
          "execution_count": 5
        }
      ]
    },
    {
      "cell_type": "code",
      "metadata": {
        "id": "byUT9YZA9pqD",
        "colab_type": "code",
        "colab": {}
      },
      "source": [
        "df_val = pd.read_csv('https://raw.githubusercontent.com/rauan-assabayev/NLP/master/lab5/gap-validation.tsv',sep='\\t')"
      ],
      "execution_count": 0,
      "outputs": []
    },
    {
      "cell_type": "code",
      "metadata": {
        "id": "9wTiM-5J9pqH",
        "colab_type": "code",
        "colab": {
          "base_uri": "https://localhost:8080/",
          "height": 606
        },
        "outputId": "d0bf82f3-7e86-4086-ff50-38f8193e48a2"
      },
      "source": [
        "df_val"
      ],
      "execution_count": 7,
      "outputs": [
        {
          "output_type": "execute_result",
          "data": {
            "text/html": [
              "<div>\n",
              "<style scoped>\n",
              "    .dataframe tbody tr th:only-of-type {\n",
              "        vertical-align: middle;\n",
              "    }\n",
              "\n",
              "    .dataframe tbody tr th {\n",
              "        vertical-align: top;\n",
              "    }\n",
              "\n",
              "    .dataframe thead th {\n",
              "        text-align: right;\n",
              "    }\n",
              "</style>\n",
              "<table border=\"1\" class=\"dataframe\">\n",
              "  <thead>\n",
              "    <tr style=\"text-align: right;\">\n",
              "      <th></th>\n",
              "      <th>ID</th>\n",
              "      <th>Text</th>\n",
              "      <th>Pronoun</th>\n",
              "      <th>Pronoun-offset</th>\n",
              "      <th>A</th>\n",
              "      <th>A-offset</th>\n",
              "      <th>A-coref</th>\n",
              "      <th>B</th>\n",
              "      <th>B-offset</th>\n",
              "      <th>B-coref</th>\n",
              "      <th>URL</th>\n",
              "    </tr>\n",
              "  </thead>\n",
              "  <tbody>\n",
              "    <tr>\n",
              "      <th>0</th>\n",
              "      <td>validation-1</td>\n",
              "      <td>He admitted making four trips to China and pla...</td>\n",
              "      <td>him</td>\n",
              "      <td>256</td>\n",
              "      <td>Jose de Venecia Jr</td>\n",
              "      <td>208</td>\n",
              "      <td>False</td>\n",
              "      <td>Abalos</td>\n",
              "      <td>241</td>\n",
              "      <td>False</td>\n",
              "      <td>http://en.wikipedia.org/wiki/Commission_on_Ele...</td>\n",
              "    </tr>\n",
              "    <tr>\n",
              "      <th>1</th>\n",
              "      <td>validation-2</td>\n",
              "      <td>Kathleen Nott was born in Camberwell, London. ...</td>\n",
              "      <td>She</td>\n",
              "      <td>185</td>\n",
              "      <td>Ellen</td>\n",
              "      <td>110</td>\n",
              "      <td>False</td>\n",
              "      <td>Kathleen</td>\n",
              "      <td>150</td>\n",
              "      <td>True</td>\n",
              "      <td>http://en.wikipedia.org/wiki/Kathleen_Nott</td>\n",
              "    </tr>\n",
              "    <tr>\n",
              "      <th>2</th>\n",
              "      <td>validation-3</td>\n",
              "      <td>When she returns to her hotel room, a Liberian...</td>\n",
              "      <td>his</td>\n",
              "      <td>435</td>\n",
              "      <td>Jason Scott Lee</td>\n",
              "      <td>383</td>\n",
              "      <td>False</td>\n",
              "      <td>Danny</td>\n",
              "      <td>406</td>\n",
              "      <td>True</td>\n",
              "      <td>http://en.wikipedia.org/wiki/Hawaii_Five-0_(20...</td>\n",
              "    </tr>\n",
              "    <tr>\n",
              "      <th>3</th>\n",
              "      <td>validation-4</td>\n",
              "      <td>On 19 March 2007, during a campaign appearance...</td>\n",
              "      <td>he</td>\n",
              "      <td>333</td>\n",
              "      <td>Reucassel</td>\n",
              "      <td>300</td>\n",
              "      <td>True</td>\n",
              "      <td>Debnam</td>\n",
              "      <td>325</td>\n",
              "      <td>False</td>\n",
              "      <td>http://en.wikipedia.org/wiki/Craig_Reucassel</td>\n",
              "    </tr>\n",
              "    <tr>\n",
              "      <th>4</th>\n",
              "      <td>validation-5</td>\n",
              "      <td>By this time, Karen Blixen had separated from ...</td>\n",
              "      <td>she</td>\n",
              "      <td>427</td>\n",
              "      <td>Finch Hatton</td>\n",
              "      <td>290</td>\n",
              "      <td>False</td>\n",
              "      <td>Beryl Markham</td>\n",
              "      <td>328</td>\n",
              "      <td>True</td>\n",
              "      <td>http://en.wikipedia.org/wiki/Denys_Finch_Hatton</td>\n",
              "    </tr>\n",
              "    <tr>\n",
              "      <th>...</th>\n",
              "      <td>...</td>\n",
              "      <td>...</td>\n",
              "      <td>...</td>\n",
              "      <td>...</td>\n",
              "      <td>...</td>\n",
              "      <td>...</td>\n",
              "      <td>...</td>\n",
              "      <td>...</td>\n",
              "      <td>...</td>\n",
              "      <td>...</td>\n",
              "      <td>...</td>\n",
              "    </tr>\n",
              "    <tr>\n",
              "      <th>449</th>\n",
              "      <td>validation-450</td>\n",
              "      <td>He then agrees to name the gargoyle Goldie, af...</td>\n",
              "      <td>He</td>\n",
              "      <td>305</td>\n",
              "      <td>Lucien</td>\n",
              "      <td>252</td>\n",
              "      <td>False</td>\n",
              "      <td>Abel</td>\n",
              "      <td>264</td>\n",
              "      <td>False</td>\n",
              "      <td>http://en.wikipedia.org/wiki/Goldie_(DC_Comics)</td>\n",
              "    </tr>\n",
              "    <tr>\n",
              "      <th>450</th>\n",
              "      <td>validation-451</td>\n",
              "      <td>Disgusted with the family's ``mendacity'', Bri...</td>\n",
              "      <td>she</td>\n",
              "      <td>365</td>\n",
              "      <td>Maggie</td>\n",
              "      <td>242</td>\n",
              "      <td>False</td>\n",
              "      <td>Mae</td>\n",
              "      <td>257</td>\n",
              "      <td>False</td>\n",
              "      <td>http://en.wikipedia.org/wiki/Cat_on_a_Hot_Tin_...</td>\n",
              "    </tr>\n",
              "    <tr>\n",
              "      <th>451</th>\n",
              "      <td>validation-452</td>\n",
              "      <td>She manipulates Michael into giving her custod...</td>\n",
              "      <td>she</td>\n",
              "      <td>306</td>\n",
              "      <td>Scarlett</td>\n",
              "      <td>255</td>\n",
              "      <td>False</td>\n",
              "      <td>Alice</td>\n",
              "      <td>291</td>\n",
              "      <td>True</td>\n",
              "      <td>http://en.wikipedia.org/wiki/Michael_Moon_(Eas...</td>\n",
              "    </tr>\n",
              "    <tr>\n",
              "      <th>452</th>\n",
              "      <td>validation-453</td>\n",
              "      <td>On April 4, 1986, Donal Henahan wrote in the N...</td>\n",
              "      <td>her</td>\n",
              "      <td>330</td>\n",
              "      <td>Aida</td>\n",
              "      <td>250</td>\n",
              "      <td>False</td>\n",
              "      <td>Miss Millo</td>\n",
              "      <td>294</td>\n",
              "      <td>True</td>\n",
              "      <td>http://en.wikipedia.org/wiki/Aprile_Millo</td>\n",
              "    </tr>\n",
              "    <tr>\n",
              "      <th>453</th>\n",
              "      <td>validation-454</td>\n",
              "      <td>Pleasant explains Vassey's guilty conscience m...</td>\n",
              "      <td>him</td>\n",
              "      <td>282</td>\n",
              "      <td>Vassey</td>\n",
              "      <td>234</td>\n",
              "      <td>True</td>\n",
              "      <td>Denton</td>\n",
              "      <td>255</td>\n",
              "      <td>False</td>\n",
              "      <td>http://en.wikipedia.org/wiki/Small_Crimes</td>\n",
              "    </tr>\n",
              "  </tbody>\n",
              "</table>\n",
              "<p>454 rows × 11 columns</p>\n",
              "</div>"
            ],
            "text/plain": [
              "                 ID  ...                                                URL\n",
              "0      validation-1  ...  http://en.wikipedia.org/wiki/Commission_on_Ele...\n",
              "1      validation-2  ...         http://en.wikipedia.org/wiki/Kathleen_Nott\n",
              "2      validation-3  ...  http://en.wikipedia.org/wiki/Hawaii_Five-0_(20...\n",
              "3      validation-4  ...       http://en.wikipedia.org/wiki/Craig_Reucassel\n",
              "4      validation-5  ...    http://en.wikipedia.org/wiki/Denys_Finch_Hatton\n",
              "..              ...  ...                                                ...\n",
              "449  validation-450  ...    http://en.wikipedia.org/wiki/Goldie_(DC_Comics)\n",
              "450  validation-451  ...  http://en.wikipedia.org/wiki/Cat_on_a_Hot_Tin_...\n",
              "451  validation-452  ...  http://en.wikipedia.org/wiki/Michael_Moon_(Eas...\n",
              "452  validation-453  ...          http://en.wikipedia.org/wiki/Aprile_Millo\n",
              "453  validation-454  ...          http://en.wikipedia.org/wiki/Small_Crimes\n",
              "\n",
              "[454 rows x 11 columns]"
            ]
          },
          "metadata": {
            "tags": []
          },
          "execution_count": 7
        }
      ]
    },
    {
      "cell_type": "code",
      "metadata": {
        "id": "5tGcfQl59pqJ",
        "colab_type": "code",
        "colab": {}
      },
      "source": [
        "### Put your code here"
      ],
      "execution_count": 0,
      "outputs": []
    }
  ]
}