{
 "cells": [
  {
   "cell_type": "markdown",
   "metadata": {
    "colab_type": "text",
    "id": "xQFxnUjZ9pp0"
   },
   "source": [
    "### Anaphora resolution"
   ]
  },
  {
   "cell_type": "markdown",
   "metadata": {
    "colab_type": "text",
    "id": "XolFNJxH9pp1"
   },
   "source": [
    "1) Get the pretrained model of FastText from https://fasttext.cc/docs/en/english-vectors.html"
   ]
  },
  {
   "cell_type": "markdown",
   "metadata": {
    "colab_type": "text",
    "id": "GWc0Xsdx9pp1"
   },
   "source": [
    "2) At the pytorch develop a model, that is a feed forward neural network that consists of three layers, an input layer of size 600, a first layer of size 300, a second layer of 80 and an output layer with two units, all layers have regularization and dropout. The activation function on all layers is ReLU"
   ]
  },
  {
   "cell_type": "markdown",
   "metadata": {
    "colab_type": "text",
    "id": "xlmu5Hrp9pp2"
   },
   "source": [
    "![title](scheme.jpg)"
   ]
  },
  {
   "cell_type": "code",
   "execution_count": 1,
   "metadata": {
    "colab": {},
    "colab_type": "code",
    "id": "ofhKZVIW9pp3"
   },
   "outputs": [],
   "source": [
    "import pandas as pd"
   ]
  },
  {
   "cell_type": "code",
   "execution_count": 2,
   "metadata": {
    "colab": {},
    "colab_type": "code",
    "id": "satf0n9T9pp5"
   },
   "outputs": [],
   "source": [
    "df_dev = pd.read_csv('https://raw.githubusercontent.com/rauan-assabayev/NLP/master/lab5/gap-development.tsv',sep='\\t')"
   ]
  },
  {
   "cell_type": "markdown",
   "metadata": {
    "colab_type": "text",
    "id": "_BIuyDWg9pp8"
   },
   "source": [
    "The task is to identify the target of a pronoun within a text passage. The source text is taken from Wikipedia articles. In the dataset, there are labels of the pronoun and two candidate names to which the pronoun could refer. An algorithm should be capable of deciding whether the pronoun refers to name A, name B, or neither.  \n",
    "There are the following columns for analysis:\n",
    "* ID - Unique identifier for an example (Matches to Id in output file format);\n",
    "* Text - Text containing the ambiguous pronoun and two candidate names (about a paragraph in length);\n",
    "* Text - Text containing the ambiguous pronoun and two candidate names (about a paragraph in length);\n",
    "* Pronoun - The target pronoun (text);\n",
    "* Pronoun-offset The character offset of Pronoun in Text;\n",
    "* A - The first name candidate (text);\n",
    "* A-offset - The character offset of name A in Text;\n",
    "* B - The second name candidate;\n",
    "* B-offset - The character offset of name B in Text;\n",
    "* URL - The URL of the source Wikipedia page for the example;\n"
   ]
  },
  {
   "cell_type": "code",
   "execution_count": 3,
   "metadata": {
    "colab": {
     "base_uri": "https://localhost:8080/",
     "height": 606
    },
    "colab_type": "code",
    "id": "-xIxUh-P9pp9",
    "outputId": "ee70a2b1-c1f8-4d52-8397-00c59c63c87a"
   },
   "outputs": [
    {
     "data": {
      "text/html": [
       "<div>\n",
       "<style scoped>\n",
       "    .dataframe tbody tr th:only-of-type {\n",
       "        vertical-align: middle;\n",
       "    }\n",
       "\n",
       "    .dataframe tbody tr th {\n",
       "        vertical-align: top;\n",
       "    }\n",
       "\n",
       "    .dataframe thead th {\n",
       "        text-align: right;\n",
       "    }\n",
       "</style>\n",
       "<table border=\"1\" class=\"dataframe\">\n",
       "  <thead>\n",
       "    <tr style=\"text-align: right;\">\n",
       "      <th></th>\n",
       "      <th>ID</th>\n",
       "      <th>Text</th>\n",
       "      <th>Pronoun</th>\n",
       "      <th>Pronoun-offset</th>\n",
       "      <th>A</th>\n",
       "      <th>A-offset</th>\n",
       "      <th>A-coref</th>\n",
       "      <th>B</th>\n",
       "      <th>B-offset</th>\n",
       "      <th>B-coref</th>\n",
       "      <th>URL</th>\n",
       "    </tr>\n",
       "  </thead>\n",
       "  <tbody>\n",
       "    <tr>\n",
       "      <th>0</th>\n",
       "      <td>development-1</td>\n",
       "      <td>Zoe Telford -- played the police officer girlf...</td>\n",
       "      <td>her</td>\n",
       "      <td>274</td>\n",
       "      <td>Cheryl Cassidy</td>\n",
       "      <td>191</td>\n",
       "      <td>True</td>\n",
       "      <td>Pauline</td>\n",
       "      <td>207</td>\n",
       "      <td>False</td>\n",
       "      <td>http://en.wikipedia.org/wiki/List_of_Teachers_...</td>\n",
       "    </tr>\n",
       "    <tr>\n",
       "      <th>1</th>\n",
       "      <td>development-2</td>\n",
       "      <td>He grew up in Evanston, Illinois the second ol...</td>\n",
       "      <td>His</td>\n",
       "      <td>284</td>\n",
       "      <td>MacKenzie</td>\n",
       "      <td>228</td>\n",
       "      <td>True</td>\n",
       "      <td>Bernard Leach</td>\n",
       "      <td>251</td>\n",
       "      <td>False</td>\n",
       "      <td>http://en.wikipedia.org/wiki/Warren_MacKenzie</td>\n",
       "    </tr>\n",
       "    <tr>\n",
       "      <th>2</th>\n",
       "      <td>development-3</td>\n",
       "      <td>He had been reelected to Congress, but resigne...</td>\n",
       "      <td>his</td>\n",
       "      <td>265</td>\n",
       "      <td>Angeloz</td>\n",
       "      <td>173</td>\n",
       "      <td>False</td>\n",
       "      <td>De la Sota</td>\n",
       "      <td>246</td>\n",
       "      <td>True</td>\n",
       "      <td>http://en.wikipedia.org/wiki/Jos%C3%A9_Manuel_...</td>\n",
       "    </tr>\n",
       "    <tr>\n",
       "      <th>3</th>\n",
       "      <td>development-4</td>\n",
       "      <td>The current members of Crime have also perform...</td>\n",
       "      <td>his</td>\n",
       "      <td>321</td>\n",
       "      <td>Hell</td>\n",
       "      <td>174</td>\n",
       "      <td>False</td>\n",
       "      <td>Henry Rosenthal</td>\n",
       "      <td>336</td>\n",
       "      <td>True</td>\n",
       "      <td>http://en.wikipedia.org/wiki/Crime_(band)</td>\n",
       "    </tr>\n",
       "    <tr>\n",
       "      <th>4</th>\n",
       "      <td>development-5</td>\n",
       "      <td>Her Santa Fe Opera debut in 2005 was as Nuria ...</td>\n",
       "      <td>She</td>\n",
       "      <td>437</td>\n",
       "      <td>Kitty Oppenheimer</td>\n",
       "      <td>219</td>\n",
       "      <td>False</td>\n",
       "      <td>Rivera</td>\n",
       "      <td>294</td>\n",
       "      <td>True</td>\n",
       "      <td>http://en.wikipedia.org/wiki/Jessica_Rivera</td>\n",
       "    </tr>\n",
       "    <tr>\n",
       "      <th>...</th>\n",
       "      <td>...</td>\n",
       "      <td>...</td>\n",
       "      <td>...</td>\n",
       "      <td>...</td>\n",
       "      <td>...</td>\n",
       "      <td>...</td>\n",
       "      <td>...</td>\n",
       "      <td>...</td>\n",
       "      <td>...</td>\n",
       "      <td>...</td>\n",
       "      <td>...</td>\n",
       "    </tr>\n",
       "    <tr>\n",
       "      <th>1995</th>\n",
       "      <td>development-1996</td>\n",
       "      <td>Faye's third husband, Paul Resnick, reported t...</td>\n",
       "      <td>her</td>\n",
       "      <td>433</td>\n",
       "      <td>Nicole</td>\n",
       "      <td>255</td>\n",
       "      <td>False</td>\n",
       "      <td>Faye</td>\n",
       "      <td>328</td>\n",
       "      <td>True</td>\n",
       "      <td>http://en.wikipedia.org/wiki/Faye_Resnick</td>\n",
       "    </tr>\n",
       "    <tr>\n",
       "      <th>1996</th>\n",
       "      <td>development-1997</td>\n",
       "      <td>The plot of the film focuses on the life of a ...</td>\n",
       "      <td>her</td>\n",
       "      <td>246</td>\n",
       "      <td>Doris Chu</td>\n",
       "      <td>111</td>\n",
       "      <td>False</td>\n",
       "      <td>Mei</td>\n",
       "      <td>215</td>\n",
       "      <td>True</td>\n",
       "      <td>http://en.wikipedia.org/wiki/Two_Lies</td>\n",
       "    </tr>\n",
       "    <tr>\n",
       "      <th>1997</th>\n",
       "      <td>development-1998</td>\n",
       "      <td>Grant played the part in Trevor Nunn's movie a...</td>\n",
       "      <td>she</td>\n",
       "      <td>348</td>\n",
       "      <td>Maria</td>\n",
       "      <td>259</td>\n",
       "      <td>True</td>\n",
       "      <td>Imelda Staunton</td>\n",
       "      <td>266</td>\n",
       "      <td>False</td>\n",
       "      <td>http://en.wikipedia.org/wiki/Sir_Andrew_Aguecheek</td>\n",
       "    </tr>\n",
       "    <tr>\n",
       "      <th>1998</th>\n",
       "      <td>development-1999</td>\n",
       "      <td>The fashion house specialised in hand-printed ...</td>\n",
       "      <td>She</td>\n",
       "      <td>284</td>\n",
       "      <td>Helen</td>\n",
       "      <td>145</td>\n",
       "      <td>True</td>\n",
       "      <td>Suzanne Bartsch</td>\n",
       "      <td>208</td>\n",
       "      <td>False</td>\n",
       "      <td>http://en.wikipedia.org/wiki/Helen_David</td>\n",
       "    </tr>\n",
       "    <tr>\n",
       "      <th>1999</th>\n",
       "      <td>development-2000</td>\n",
       "      <td>Watkins was a close friend of Hess' first wife...</td>\n",
       "      <td>her</td>\n",
       "      <td>373</td>\n",
       "      <td>Elizabeth</td>\n",
       "      <td>293</td>\n",
       "      <td>False</td>\n",
       "      <td>Watkins</td>\n",
       "      <td>347</td>\n",
       "      <td>True</td>\n",
       "      <td>http://en.wikipedia.org/wiki/Linda_Watkins</td>\n",
       "    </tr>\n",
       "  </tbody>\n",
       "</table>\n",
       "<p>2000 rows × 11 columns</p>\n",
       "</div>"
      ],
      "text/plain": [
       "                    ID                                               Text  \\\n",
       "0        development-1  Zoe Telford -- played the police officer girlf...   \n",
       "1        development-2  He grew up in Evanston, Illinois the second ol...   \n",
       "2        development-3  He had been reelected to Congress, but resigne...   \n",
       "3        development-4  The current members of Crime have also perform...   \n",
       "4        development-5  Her Santa Fe Opera debut in 2005 was as Nuria ...   \n",
       "...                ...                                                ...   \n",
       "1995  development-1996  Faye's third husband, Paul Resnick, reported t...   \n",
       "1996  development-1997  The plot of the film focuses on the life of a ...   \n",
       "1997  development-1998  Grant played the part in Trevor Nunn's movie a...   \n",
       "1998  development-1999  The fashion house specialised in hand-printed ...   \n",
       "1999  development-2000  Watkins was a close friend of Hess' first wife...   \n",
       "\n",
       "     Pronoun  Pronoun-offset                  A  A-offset  A-coref  \\\n",
       "0        her             274     Cheryl Cassidy       191     True   \n",
       "1        His             284          MacKenzie       228     True   \n",
       "2        his             265            Angeloz       173    False   \n",
       "3        his             321               Hell       174    False   \n",
       "4        She             437  Kitty Oppenheimer       219    False   \n",
       "...      ...             ...                ...       ...      ...   \n",
       "1995     her             433             Nicole       255    False   \n",
       "1996     her             246          Doris Chu       111    False   \n",
       "1997     she             348              Maria       259     True   \n",
       "1998     She             284              Helen       145     True   \n",
       "1999     her             373          Elizabeth       293    False   \n",
       "\n",
       "                    B  B-offset  B-coref  \\\n",
       "0             Pauline       207    False   \n",
       "1       Bernard Leach       251    False   \n",
       "2          De la Sota       246     True   \n",
       "3     Henry Rosenthal       336     True   \n",
       "4              Rivera       294     True   \n",
       "...               ...       ...      ...   \n",
       "1995             Faye       328     True   \n",
       "1996              Mei       215     True   \n",
       "1997  Imelda Staunton       266    False   \n",
       "1998  Suzanne Bartsch       208    False   \n",
       "1999          Watkins       347     True   \n",
       "\n",
       "                                                    URL  \n",
       "0     http://en.wikipedia.org/wiki/List_of_Teachers_...  \n",
       "1         http://en.wikipedia.org/wiki/Warren_MacKenzie  \n",
       "2     http://en.wikipedia.org/wiki/Jos%C3%A9_Manuel_...  \n",
       "3             http://en.wikipedia.org/wiki/Crime_(band)  \n",
       "4           http://en.wikipedia.org/wiki/Jessica_Rivera  \n",
       "...                                                 ...  \n",
       "1995          http://en.wikipedia.org/wiki/Faye_Resnick  \n",
       "1996              http://en.wikipedia.org/wiki/Two_Lies  \n",
       "1997  http://en.wikipedia.org/wiki/Sir_Andrew_Aguecheek  \n",
       "1998           http://en.wikipedia.org/wiki/Helen_David  \n",
       "1999         http://en.wikipedia.org/wiki/Linda_Watkins  \n",
       "\n",
       "[2000 rows x 11 columns]"
      ]
     },
     "execution_count": 3,
     "metadata": {},
     "output_type": "execute_result"
    }
   ],
   "source": [
    "df_dev"
   ]
  },
  {
   "cell_type": "code",
   "execution_count": 4,
   "metadata": {
    "colab": {
     "base_uri": "https://localhost:8080/",
     "height": 54
    },
    "colab_type": "code",
    "id": "LSzkPHdQ9pqB",
    "outputId": "f9f8c4d5-584a-4f72-a954-cf787d94539b"
   },
   "outputs": [
    {
     "data": {
      "text/plain": [
       "\"Zoe Telford -- played the police officer girlfriend of Simon, Maggie. Dumped by Simon in the final episode of series 1, after he slept with Jenny, and is not seen again. Phoebe Thomas played Cheryl Cassidy, Pauline's friend and also a year 11 pupil in Simon's class. Dumped her boyfriend following Simon's advice after he wouldn't have sex with her but later realised this was due to him catching crabs off her friend Pauline.\""
      ]
     },
     "execution_count": 4,
     "metadata": {},
     "output_type": "execute_result"
    }
   ],
   "source": [
    "df_dev.iloc[0]['Text']"
   ]
  },
  {
   "cell_type": "code",
   "execution_count": 5,
   "metadata": {
    "colab": {},
    "colab_type": "code",
    "id": "byUT9YZA9pqD"
   },
   "outputs": [],
   "source": [
    "df_val = pd.read_csv('https://raw.githubusercontent.com/rauan-assabayev/NLP/master/lab5/gap-validation.tsv',sep='\\t')"
   ]
  },
  {
   "cell_type": "code",
   "execution_count": 6,
   "metadata": {
    "colab": {
     "base_uri": "https://localhost:8080/",
     "height": 606
    },
    "colab_type": "code",
    "id": "9wTiM-5J9pqH",
    "outputId": "d0bf82f3-7e86-4086-ff50-38f8193e48a2"
   },
   "outputs": [
    {
     "data": {
      "text/html": [
       "<div>\n",
       "<style scoped>\n",
       "    .dataframe tbody tr th:only-of-type {\n",
       "        vertical-align: middle;\n",
       "    }\n",
       "\n",
       "    .dataframe tbody tr th {\n",
       "        vertical-align: top;\n",
       "    }\n",
       "\n",
       "    .dataframe thead th {\n",
       "        text-align: right;\n",
       "    }\n",
       "</style>\n",
       "<table border=\"1\" class=\"dataframe\">\n",
       "  <thead>\n",
       "    <tr style=\"text-align: right;\">\n",
       "      <th></th>\n",
       "      <th>ID</th>\n",
       "      <th>Text</th>\n",
       "      <th>Pronoun</th>\n",
       "      <th>Pronoun-offset</th>\n",
       "      <th>A</th>\n",
       "      <th>A-offset</th>\n",
       "      <th>A-coref</th>\n",
       "      <th>B</th>\n",
       "      <th>B-offset</th>\n",
       "      <th>B-coref</th>\n",
       "      <th>URL</th>\n",
       "    </tr>\n",
       "  </thead>\n",
       "  <tbody>\n",
       "    <tr>\n",
       "      <th>0</th>\n",
       "      <td>validation-1</td>\n",
       "      <td>He admitted making four trips to China and pla...</td>\n",
       "      <td>him</td>\n",
       "      <td>256</td>\n",
       "      <td>Jose de Venecia Jr</td>\n",
       "      <td>208</td>\n",
       "      <td>False</td>\n",
       "      <td>Abalos</td>\n",
       "      <td>241</td>\n",
       "      <td>False</td>\n",
       "      <td>http://en.wikipedia.org/wiki/Commission_on_Ele...</td>\n",
       "    </tr>\n",
       "    <tr>\n",
       "      <th>1</th>\n",
       "      <td>validation-2</td>\n",
       "      <td>Kathleen Nott was born in Camberwell, London. ...</td>\n",
       "      <td>She</td>\n",
       "      <td>185</td>\n",
       "      <td>Ellen</td>\n",
       "      <td>110</td>\n",
       "      <td>False</td>\n",
       "      <td>Kathleen</td>\n",
       "      <td>150</td>\n",
       "      <td>True</td>\n",
       "      <td>http://en.wikipedia.org/wiki/Kathleen_Nott</td>\n",
       "    </tr>\n",
       "    <tr>\n",
       "      <th>2</th>\n",
       "      <td>validation-3</td>\n",
       "      <td>When she returns to her hotel room, a Liberian...</td>\n",
       "      <td>his</td>\n",
       "      <td>435</td>\n",
       "      <td>Jason Scott Lee</td>\n",
       "      <td>383</td>\n",
       "      <td>False</td>\n",
       "      <td>Danny</td>\n",
       "      <td>406</td>\n",
       "      <td>True</td>\n",
       "      <td>http://en.wikipedia.org/wiki/Hawaii_Five-0_(20...</td>\n",
       "    </tr>\n",
       "    <tr>\n",
       "      <th>3</th>\n",
       "      <td>validation-4</td>\n",
       "      <td>On 19 March 2007, during a campaign appearance...</td>\n",
       "      <td>he</td>\n",
       "      <td>333</td>\n",
       "      <td>Reucassel</td>\n",
       "      <td>300</td>\n",
       "      <td>True</td>\n",
       "      <td>Debnam</td>\n",
       "      <td>325</td>\n",
       "      <td>False</td>\n",
       "      <td>http://en.wikipedia.org/wiki/Craig_Reucassel</td>\n",
       "    </tr>\n",
       "    <tr>\n",
       "      <th>4</th>\n",
       "      <td>validation-5</td>\n",
       "      <td>By this time, Karen Blixen had separated from ...</td>\n",
       "      <td>she</td>\n",
       "      <td>427</td>\n",
       "      <td>Finch Hatton</td>\n",
       "      <td>290</td>\n",
       "      <td>False</td>\n",
       "      <td>Beryl Markham</td>\n",
       "      <td>328</td>\n",
       "      <td>True</td>\n",
       "      <td>http://en.wikipedia.org/wiki/Denys_Finch_Hatton</td>\n",
       "    </tr>\n",
       "    <tr>\n",
       "      <th>...</th>\n",
       "      <td>...</td>\n",
       "      <td>...</td>\n",
       "      <td>...</td>\n",
       "      <td>...</td>\n",
       "      <td>...</td>\n",
       "      <td>...</td>\n",
       "      <td>...</td>\n",
       "      <td>...</td>\n",
       "      <td>...</td>\n",
       "      <td>...</td>\n",
       "      <td>...</td>\n",
       "    </tr>\n",
       "    <tr>\n",
       "      <th>449</th>\n",
       "      <td>validation-450</td>\n",
       "      <td>He then agrees to name the gargoyle Goldie, af...</td>\n",
       "      <td>He</td>\n",
       "      <td>305</td>\n",
       "      <td>Lucien</td>\n",
       "      <td>252</td>\n",
       "      <td>False</td>\n",
       "      <td>Abel</td>\n",
       "      <td>264</td>\n",
       "      <td>False</td>\n",
       "      <td>http://en.wikipedia.org/wiki/Goldie_(DC_Comics)</td>\n",
       "    </tr>\n",
       "    <tr>\n",
       "      <th>450</th>\n",
       "      <td>validation-451</td>\n",
       "      <td>Disgusted with the family's ``mendacity'', Bri...</td>\n",
       "      <td>she</td>\n",
       "      <td>365</td>\n",
       "      <td>Maggie</td>\n",
       "      <td>242</td>\n",
       "      <td>False</td>\n",
       "      <td>Mae</td>\n",
       "      <td>257</td>\n",
       "      <td>False</td>\n",
       "      <td>http://en.wikipedia.org/wiki/Cat_on_a_Hot_Tin_...</td>\n",
       "    </tr>\n",
       "    <tr>\n",
       "      <th>451</th>\n",
       "      <td>validation-452</td>\n",
       "      <td>She manipulates Michael into giving her custod...</td>\n",
       "      <td>she</td>\n",
       "      <td>306</td>\n",
       "      <td>Scarlett</td>\n",
       "      <td>255</td>\n",
       "      <td>False</td>\n",
       "      <td>Alice</td>\n",
       "      <td>291</td>\n",
       "      <td>True</td>\n",
       "      <td>http://en.wikipedia.org/wiki/Michael_Moon_(Eas...</td>\n",
       "    </tr>\n",
       "    <tr>\n",
       "      <th>452</th>\n",
       "      <td>validation-453</td>\n",
       "      <td>On April 4, 1986, Donal Henahan wrote in the N...</td>\n",
       "      <td>her</td>\n",
       "      <td>330</td>\n",
       "      <td>Aida</td>\n",
       "      <td>250</td>\n",
       "      <td>False</td>\n",
       "      <td>Miss Millo</td>\n",
       "      <td>294</td>\n",
       "      <td>True</td>\n",
       "      <td>http://en.wikipedia.org/wiki/Aprile_Millo</td>\n",
       "    </tr>\n",
       "    <tr>\n",
       "      <th>453</th>\n",
       "      <td>validation-454</td>\n",
       "      <td>Pleasant explains Vassey's guilty conscience m...</td>\n",
       "      <td>him</td>\n",
       "      <td>282</td>\n",
       "      <td>Vassey</td>\n",
       "      <td>234</td>\n",
       "      <td>True</td>\n",
       "      <td>Denton</td>\n",
       "      <td>255</td>\n",
       "      <td>False</td>\n",
       "      <td>http://en.wikipedia.org/wiki/Small_Crimes</td>\n",
       "    </tr>\n",
       "  </tbody>\n",
       "</table>\n",
       "<p>454 rows × 11 columns</p>\n",
       "</div>"
      ],
      "text/plain": [
       "                 ID                                               Text  \\\n",
       "0      validation-1  He admitted making four trips to China and pla...   \n",
       "1      validation-2  Kathleen Nott was born in Camberwell, London. ...   \n",
       "2      validation-3  When she returns to her hotel room, a Liberian...   \n",
       "3      validation-4  On 19 March 2007, during a campaign appearance...   \n",
       "4      validation-5  By this time, Karen Blixen had separated from ...   \n",
       "..              ...                                                ...   \n",
       "449  validation-450  He then agrees to name the gargoyle Goldie, af...   \n",
       "450  validation-451  Disgusted with the family's ``mendacity'', Bri...   \n",
       "451  validation-452  She manipulates Michael into giving her custod...   \n",
       "452  validation-453  On April 4, 1986, Donal Henahan wrote in the N...   \n",
       "453  validation-454  Pleasant explains Vassey's guilty conscience m...   \n",
       "\n",
       "    Pronoun  Pronoun-offset                   A  A-offset  A-coref  \\\n",
       "0       him             256  Jose de Venecia Jr       208    False   \n",
       "1       She             185               Ellen       110    False   \n",
       "2       his             435     Jason Scott Lee       383    False   \n",
       "3        he             333           Reucassel       300     True   \n",
       "4       she             427        Finch Hatton       290    False   \n",
       "..      ...             ...                 ...       ...      ...   \n",
       "449      He             305              Lucien       252    False   \n",
       "450     she             365              Maggie       242    False   \n",
       "451     she             306            Scarlett       255    False   \n",
       "452     her             330                Aida       250    False   \n",
       "453     him             282              Vassey       234     True   \n",
       "\n",
       "                 B  B-offset  B-coref  \\\n",
       "0           Abalos       241    False   \n",
       "1         Kathleen       150     True   \n",
       "2            Danny       406     True   \n",
       "3           Debnam       325    False   \n",
       "4    Beryl Markham       328     True   \n",
       "..             ...       ...      ...   \n",
       "449           Abel       264    False   \n",
       "450            Mae       257    False   \n",
       "451          Alice       291     True   \n",
       "452     Miss Millo       294     True   \n",
       "453         Denton       255    False   \n",
       "\n",
       "                                                   URL  \n",
       "0    http://en.wikipedia.org/wiki/Commission_on_Ele...  \n",
       "1           http://en.wikipedia.org/wiki/Kathleen_Nott  \n",
       "2    http://en.wikipedia.org/wiki/Hawaii_Five-0_(20...  \n",
       "3         http://en.wikipedia.org/wiki/Craig_Reucassel  \n",
       "4      http://en.wikipedia.org/wiki/Denys_Finch_Hatton  \n",
       "..                                                 ...  \n",
       "449    http://en.wikipedia.org/wiki/Goldie_(DC_Comics)  \n",
       "450  http://en.wikipedia.org/wiki/Cat_on_a_Hot_Tin_...  \n",
       "451  http://en.wikipedia.org/wiki/Michael_Moon_(Eas...  \n",
       "452          http://en.wikipedia.org/wiki/Aprile_Millo  \n",
       "453          http://en.wikipedia.org/wiki/Small_Crimes  \n",
       "\n",
       "[454 rows x 11 columns]"
      ]
     },
     "execution_count": 6,
     "metadata": {},
     "output_type": "execute_result"
    }
   ],
   "source": [
    "df_val"
   ]
  },
  {
   "cell_type": "code",
   "execution_count": 6,
   "metadata": {
    "colab": {
     "base_uri": "https://localhost:8080/",
     "height": 408
    },
    "colab_type": "code",
    "id": "5tGcfQl59pqJ",
    "outputId": "f42ee976-6d6f-4daa-a037-a35362267f44"
   },
   "outputs": [
    {
     "name": "stderr",
     "output_type": "stream",
     "text": [
      "/Users/rauan.assabayev/opt/anaconda3/lib/python3.7/site-packages/ipykernel_launcher.py:2: DeprecationWarning: Call to deprecated `load_fasttext_format` (use load_facebook_vectors (to use pretrained embeddings) or load_facebook_model (to continue training with the loaded full model, more RAM) instead).\n",
      "  \n"
     ]
    }
   ],
   "source": [
    "import gensim\n",
    "wiki_bin = gensim.models.fasttext.FastText.load_fasttext_format('wiki.en.bin')\n",
    "A_tensor = []\n",
    "B_tensor = []\n",
    "p_tensor = []\n",
    "for i in range(len(df_dev['A'])):\n",
    "    A_tensor.append(wiki_bin.wv[df_dev['A'][i]])\n",
    "    B_tensor.append(wiki_bin.wv[df_dev['B'][i]])\n",
    "    p_tensor.append(wiki_bin.wv[df_dev['Pronoun'][i]])\n",
    "df_tensor = pd.DataFrame()\n",
    "df_tensor['A'] = A_tensor\n",
    "df_tensor['B'] = B_tensor\n",
    "df_tensor['Pronoun'] = p_tensor\n",
    "df_tensor['A-coref'] = df_dev['A-coref'].replace(True,1)\n",
    "df_tensor['B-coref'] = df_dev['B-coref'].replace(True,1)"
   ]
  },
  {
   "cell_type": "code",
   "execution_count": 7,
   "metadata": {
    "colab": {},
    "colab_type": "code",
    "id": "FIavM4VsIO5S"
   },
   "outputs": [
    {
     "name": "stdout",
     "output_type": "stream",
     "text": [
      "Input size:  900\n",
      "Lenght of train dataset:  2000\n",
      "The first free raws: \n",
      " tensor([[ 0.2072,  0.0463,  0.1232,  ...,  0.4101,  0.0578,  0.2908],\n",
      "        [ 0.0793,  0.0274, -0.0651,  ...,  0.0558,  0.4029, -0.8033],\n",
      "        [-0.4349, -0.2292,  0.0815,  ...,  0.4401, -0.0977,  0.2298]])\n"
     ]
    }
   ],
   "source": [
    "from torch import nn\n",
    "import numpy as np\n",
    "import torch\n",
    "inp = []\n",
    "for i in range(len(A_tensor)):\n",
    "    input1 = np.append(A_tensor[i],B_tensor[i])\n",
    "    input2 = np.append(input1, p_tensor[i])\n",
    "    inp.append(input2)\n",
    "X = torch.tensor(inp).float()\n",
    "print('Input size: ', len(X[0]))\n",
    "print('Lenght of train dataset: ',len(X))\n",
    "print('The first free raws: \\n',X[:3])"
   ]
  },
  {
   "cell_type": "code",
   "execution_count": 8,
   "metadata": {},
   "outputs": [
    {
     "data": {
      "text/html": [
       "<div>\n",
       "<style scoped>\n",
       "    .dataframe tbody tr th:only-of-type {\n",
       "        vertical-align: middle;\n",
       "    }\n",
       "\n",
       "    .dataframe tbody tr th {\n",
       "        vertical-align: top;\n",
       "    }\n",
       "\n",
       "    .dataframe thead th {\n",
       "        text-align: right;\n",
       "    }\n",
       "</style>\n",
       "<table border=\"1\" class=\"dataframe\">\n",
       "  <thead>\n",
       "    <tr style=\"text-align: right;\">\n",
       "      <th></th>\n",
       "      <th>A</th>\n",
       "      <th>B</th>\n",
       "      <th>Pronoun</th>\n",
       "      <th>A-coref</th>\n",
       "      <th>B-coref</th>\n",
       "    </tr>\n",
       "  </thead>\n",
       "  <tbody>\n",
       "    <tr>\n",
       "      <th>0</th>\n",
       "      <td>[0.20722698, 0.046324596, 0.123187125, 0.02980...</td>\n",
       "      <td>[0.050630115, 0.079322815, -0.20837106, 0.4176...</td>\n",
       "      <td>[0.23167726, 0.048626047, -0.2783578, 0.310555...</td>\n",
       "      <td>1.0</td>\n",
       "      <td>0.0</td>\n",
       "    </tr>\n",
       "    <tr>\n",
       "      <th>1</th>\n",
       "      <td>[0.07929457, 0.027403368, -0.06506348, -0.0076...</td>\n",
       "      <td>[-0.18771006, -0.15013029, 0.004081186, 0.0881...</td>\n",
       "      <td>[0.013744404, -0.3271882, 0.52612346, 0.560924...</td>\n",
       "      <td>1.0</td>\n",
       "      <td>0.0</td>\n",
       "    </tr>\n",
       "    <tr>\n",
       "      <th>2</th>\n",
       "      <td>[-0.43492344, -0.22918437, 0.08146006, 0.02927...</td>\n",
       "      <td>[-0.10447918, -0.23179889, 0.057727065, -0.066...</td>\n",
       "      <td>[0.104024425, -0.28820887, -0.1581829, 0.20985...</td>\n",
       "      <td>0.0</td>\n",
       "      <td>1.0</td>\n",
       "    </tr>\n",
       "  </tbody>\n",
       "</table>\n",
       "</div>"
      ],
      "text/plain": [
       "                                                   A  \\\n",
       "0  [0.20722698, 0.046324596, 0.123187125, 0.02980...   \n",
       "1  [0.07929457, 0.027403368, -0.06506348, -0.0076...   \n",
       "2  [-0.43492344, -0.22918437, 0.08146006, 0.02927...   \n",
       "\n",
       "                                                   B  \\\n",
       "0  [0.050630115, 0.079322815, -0.20837106, 0.4176...   \n",
       "1  [-0.18771006, -0.15013029, 0.004081186, 0.0881...   \n",
       "2  [-0.10447918, -0.23179889, 0.057727065, -0.066...   \n",
       "\n",
       "                                             Pronoun  A-coref  B-coref  \n",
       "0  [0.23167726, 0.048626047, -0.2783578, 0.310555...      1.0      0.0  \n",
       "1  [0.013744404, -0.3271882, 0.52612346, 0.560924...      1.0      0.0  \n",
       "2  [0.104024425, -0.28820887, -0.1581829, 0.20985...      0.0      1.0  "
      ]
     },
     "execution_count": 8,
     "metadata": {},
     "output_type": "execute_result"
    }
   ],
   "source": [
    "df_tensor.head(3)"
   ]
  },
  {
   "cell_type": "code",
   "execution_count": 12,
   "metadata": {},
   "outputs": [
    {
     "name": "stdout",
     "output_type": "stream",
     "text": [
      "output size:  2\n",
      "len of train dataset:  2000\n",
      "The first free raws: \n",
      "tensor([[1., 0.],\n",
      "        [1., 0.],\n",
      "        [0., 1.]])\n"
     ]
    }
   ],
   "source": [
    "out = []\n",
    "y1 = df_tensor['A-coref'].values\n",
    "y2 = df_tensor['B-coref'].values\n",
    "for i in range(len(X)):\n",
    "    output1 = np.append(y1[i],y2[i])\n",
    "    out.append(output1)\n",
    "y = torch.tensor(out).float()\n",
    "print('output size: ', len(y[0]))\n",
    "print('len of train dataset: ',len(y))\n",
    "print('The first free raws: ')\n",
    "print(y[:3])"
   ]
  },
  {
   "cell_type": "code",
   "execution_count": 13,
   "metadata": {},
   "outputs": [
    {
     "name": "stdout",
     "output_type": "stream",
     "text": [
      "Sequential(\n",
      "  (0): Linear(in_features=900, out_features=600, bias=True)\n",
      "  (1): ReLU()\n",
      "  (2): Dropout(p=0.3, inplace=False)\n",
      "  (3): Linear(in_features=600, out_features=300, bias=True)\n",
      "  (4): ReLU()\n",
      "  (5): Dropout(p=0.3, inplace=False)\n",
      "  (6): Linear(in_features=300, out_features=80, bias=True)\n",
      "  (7): ReLU()\n",
      "  (8): Dropout(p=0.3, inplace=False)\n",
      "  (9): Linear(in_features=80, out_features=2, bias=True)\n",
      ")\n",
      "0 0.4935310184955597\n",
      "100 0.22300280630588531\n",
      "200 0.07687117159366608\n",
      "300 0.0364527627825737\n",
      "400 0.02607397548854351\n",
      "500 0.019800391048192978\n",
      "600 0.016994966194033623\n",
      "700 0.015866562724113464\n",
      "800 0.015423678793013096\n",
      "900 0.014192449860274792\n",
      "1000 0.012613671831786633\n",
      "1100 0.01247994415462017\n",
      "1200 0.011141539551317692\n",
      "1300 0.011742139235138893\n",
      "1400 0.01100938767194748\n",
      "1500 0.010170618072152138\n",
      "1600 0.010180140845477581\n",
      "1700 0.008968353271484375\n",
      "1800 0.009323697537183762\n",
      "1900 0.009810077026486397\n",
      "2000 0.009284543804824352\n",
      "2100 0.009062062948942184\n",
      "2200 0.008565351366996765\n",
      "2300 0.008576162159442902\n",
      "2400 0.008508451282978058\n",
      "2500 0.00837525725364685\n",
      "2600 0.007928126491606236\n",
      "2700 0.007834347896277905\n",
      "2800 0.007933520711958408\n",
      "2900 0.007588236592710018\n",
      "3000 0.007568619679659605\n",
      "3100 0.0076081352308392525\n",
      "3200 0.006703811697661877\n",
      "3300 0.007350536063313484\n",
      "3400 0.007098578382283449\n",
      "3500 0.006503745913505554\n",
      "3600 0.006307486444711685\n",
      "3700 0.006375363562256098\n",
      "3800 0.006344647146761417\n",
      "3900 0.006240983959287405\n",
      "4000 0.006421233061701059\n",
      "4100 0.006046907044947147\n",
      "4200 0.006549540441483259\n",
      "4300 0.0059576500207185745\n",
      "4400 0.005889524705708027\n",
      "4500 0.005857676733285189\n",
      "4600 0.00591132091358304\n",
      "4700 0.005907266400754452\n",
      "4800 0.005707219708710909\n",
      "4900 0.005460469052195549\n",
      "4999 0.005479906219989061\n"
     ]
    }
   ],
   "source": [
    "model = nn.Sequential(\n",
    "                      nn.Linear(len(X[0]), 600), #input size / 1 layer hidden layer size 600\n",
    "                      nn.ReLU(),\n",
    "                      nn.Dropout(p = 0.3),\n",
    "                      nn.Linear(600,300),\n",
    "                      nn.ReLU(),\n",
    "                      nn.Dropout(p = 0.3),\n",
    "                      nn.Linear(300,80),\n",
    "                      nn.ReLU(),\n",
    "                      nn.Dropout(p = 0.3),\n",
    "                      nn.Linear(80,2)) # output size 2\n",
    "print(model)\n",
    "loss_fn = torch.nn.MSELoss()\n",
    "optimizer = torch.optim.Adam(model.parameters(), lr=0.0001)\n",
    "loss = 1\n",
    "loss_arr = []\n",
    "for i in range(5000):\n",
    "            y_pred = model(X)\n",
    "            loss = loss_fn(y_pred, y)\n",
    "            loss_arr.append(loss)\n",
    "            if (i%100 == 0):\n",
    "                print(i, loss.item())\n",
    "            optimizer.zero_grad()\n",
    "            loss.backward()\n",
    "            optimizer.step()\n",
    "print(i, loss.item())"
   ]
  },
  {
   "cell_type": "code",
   "execution_count": 14,
   "metadata": {},
   "outputs": [
    {
     "name": "stdout",
     "output_type": "stream",
     "text": [
      "tensor([[ 1.0703,  0.0096],\n",
      "        [ 1.0249,  0.0152],\n",
      "        [-0.0095,  0.9135],\n",
      "        ...,\n",
      "        [ 0.8005,  0.0455],\n",
      "        [ 0.9553,  0.0062],\n",
      "        [-0.0045,  0.9909]], grad_fn=<AddmmBackward>)\n"
     ]
    }
   ],
   "source": [
    "print(y_pred)"
   ]
  },
  {
   "cell_type": "code",
   "execution_count": 15,
   "metadata": {},
   "outputs": [],
   "source": [
    "A_tensor_test = []\n",
    "B_tensor_test = []\n",
    "p_tensor_test = []\n",
    "for i in range(len(df_val['A'])):\n",
    "    A_tensor_test.append(wiki_bin.wv[df_val['A'][i]])\n",
    "    B_tensor_test.append(wiki_bin.wv[df_val['B'][i]])\n",
    "    p_tensor_test.append(wiki_bin.wv[df_val['Pronoun'][i]])"
   ]
  },
  {
   "cell_type": "code",
   "execution_count": 16,
   "metadata": {},
   "outputs": [
    {
     "name": "stdout",
     "output_type": "stream",
     "text": [
      "FOR TASTING DATA\n",
      "Input size:  900\n",
      "Len of train dataset:  454\n",
      "The first free raws: \n",
      " tensor([[-0.1394,  0.0182,  0.0389,  ...,  0.3287,  0.1988,  0.2779],\n",
      "        [ 0.1304, -0.0368, -0.0333,  ..., -0.2414, -0.0914, -0.1415],\n",
      "        [-0.1029, -0.0926, -0.0633,  ...,  0.4401, -0.0977,  0.2298]])\n"
     ]
    }
   ],
   "source": [
    "import torch\n",
    "inp = []\n",
    "for i in range(len(A_tensor_test)):\n",
    "    input1 = np.append(A_tensor_test[i],B_tensor_test[i])\n",
    "    input2 = np.append(input1, p_tensor_test[i])\n",
    "    inp.append(input2)\n",
    "X_test = torch.tensor(inp).float()\n",
    "print('FOR TASTING DATA')\n",
    "print('Input size: ', len(X_test[0]))\n",
    "print('Len of train dataset: ',len(X_test))\n",
    "print('The first free raws: \\n', X_test[:3])"
   ]
  },
  {
   "cell_type": "code",
   "execution_count": 17,
   "metadata": {},
   "outputs": [
    {
     "name": "stdout",
     "output_type": "stream",
     "text": [
      "Output size:  2\n",
      "Len of train dataset:  454\n",
      "The first free raws: \n",
      " tensor([[0., 0.],\n",
      "        [0., 1.],\n",
      "        [0., 1.]])\n"
     ]
    }
   ],
   "source": [
    "y1 = (df_val['A-coref'].replace(True, 1).values)\n",
    "y2 = (df_val['B-coref'].replace(True, 1).values)\n",
    "out = []\n",
    "for i in range(len(X_test)):\n",
    "    output1 = np.append(y1[i],y2[i])\n",
    "    out.append(output1)\n",
    "y_test = torch.tensor(out).float()\n",
    "print('Output size: ', len(y_test[0]))\n",
    "print('Len of train dataset: ',len(y_test))\n",
    "print('The first free raws: \\n',y_test[:3])"
   ]
  },
  {
   "cell_type": "code",
   "execution_count": 18,
   "metadata": {},
   "outputs": [],
   "source": [
    "y_test_pred = model(X_test)\n",
    "y_test_pred_np = (np.round((y_test_pred).detach().numpy() ))**2\n",
    "y_test_class = []\n",
    "for i in range (len(y_test)):\n",
    "    y_test2 = y_test[i].detach().numpy()\n",
    "    if (y_test2[0] == 0):\n",
    "        if (y_test2[1] == 0):\n",
    "            y_test_class.append('class1')\n",
    "    if (y_test2[0] == 0):\n",
    "        if (y_test2[1] >= 1):\n",
    "            y_test_class.append('class2')\n",
    "    if (y_test2[0]== 1):\n",
    "        if (y_test2[1]== 0):\n",
    "            y_test_class.append('class3')\n",
    "    if (y_test2[0]>= 1):\n",
    "        if (y_test2[1] >= 1):\n",
    "            y_test_class.append('class4')\n",
    "\n",
    "y_test_pred_class = []\n",
    "for i in range (len(y_test_pred_np)):\n",
    "    y_test2 = y_test_pred_np[i]\n",
    "    if (y_test2[0] == 0):\n",
    "        if (y_test2[1] == 0):\n",
    "            y_test_pred_class.append('class1')\n",
    "    if (y_test2[0] ==0):\n",
    "        if (y_test2[1] == 1):\n",
    "            y_test_pred_class.append('class2')\n",
    "    if (y_test2[0] == 1):\n",
    "        if (y_test2[1] == 0):\n",
    "            y_test_pred_class.append('class3')\n",
    "    if (y_test2[0] == 1):\n",
    "        if (y_test2[1] == 1):\n",
    "            y_test_pred_class.append('class4')"
   ]
  },
  {
   "cell_type": "code",
   "execution_count": 19,
   "metadata": {},
   "outputs": [
    {
     "name": "stdout",
     "output_type": "stream",
     "text": [
      "Classification report for both classes\n",
      "Firsly I identify classes as both false - class1, falsefrue - class2, truefalse - class3, truetrue -class4\n",
      "              precision    recall  f1-score   support\n",
      "\n",
      "      class1       0.15      0.15      0.15        65\n",
      "      class2       0.53      0.50      0.51       205\n",
      "      class3       0.49      0.51      0.50       184\n",
      "      class4       0.00      0.00      0.00         0\n",
      "\n",
      "    accuracy                           0.45       454\n",
      "   macro avg       0.29      0.29      0.29       454\n",
      "weighted avg       0.46      0.45      0.46       454\n",
      "\n"
     ]
    },
    {
     "name": "stderr",
     "output_type": "stream",
     "text": [
      "/Users/rauan.assabayev/opt/anaconda3/lib/python3.7/site-packages/sklearn/metrics/_classification.py:1272: UndefinedMetricWarning: Recall and F-score are ill-defined and being set to 0.0 in labels with no true samples. Use `zero_division` parameter to control this behavior.\n",
      "  _warn_prf(average, modifier, msg_start, len(result))\n"
     ]
    }
   ],
   "source": [
    "from sklearn.metrics import classification_report\n",
    "clr = classification_report(y_test_class, y_test_pred_class)\n",
    "print('Classification report for both classes')\n",
    "print('Firsly I identify classes as both false - class1, falsefrue - class2, truefalse - class3, truetrue -class4')\n",
    "print(clr)"
   ]
  },
  {
   "cell_type": "code",
   "execution_count": 20,
   "metadata": {},
   "outputs": [
    {
     "name": "stdout",
     "output_type": "stream",
     "text": [
      "Classification report for the A output\n",
      "              precision    recall  f1-score   support\n",
      "\n",
      "         0.0       0.65      0.63      0.64       270\n",
      "         1.0       0.48      0.51      0.49       184\n",
      "\n",
      "    accuracy                           0.58       454\n",
      "   macro avg       0.57      0.57      0.57       454\n",
      "weighted avg       0.58      0.58      0.58       454\n",
      "\n"
     ]
    }
   ],
   "source": [
    "from sklearn.metrics import classification_report\n",
    "y_test_np = np.array(y_test)\n",
    "clr1 = classification_report(y_test_np.T[0], y_test_pred_np.T[0])\n",
    "print('Classification report for the A output')\n",
    "print(clr1)"
   ]
  },
  {
   "cell_type": "code",
   "execution_count": 21,
   "metadata": {},
   "outputs": [
    {
     "name": "stdout",
     "output_type": "stream",
     "text": [
      "Model right in  206 from  454  observations. Accuracy is  45.37 %\n"
     ]
    }
   ],
   "source": [
    "model_was_right = 0\n",
    "for i in range(len(y_test_np)):\n",
    "    if (y_test_np[i][0] == y_test_pred_np[i][0]):\n",
    "        if (y_test_np[i][1] == y_test_pred_np[i][1]):\n",
    "            model_was_right = model_was_right + 1\n",
    "accuracy = 100*model_was_right/(len(y_test_np))\n",
    "print('Model right in ', model_was_right, 'from ', len(y_test_np),' observations. Accuracy is ', round(accuracy, 2), '%')"
   ]
  },
  {
   "cell_type": "code",
   "execution_count": null,
   "metadata": {},
   "outputs": [],
   "source": []
  }
 ],
 "metadata": {
  "colab": {
   "name": "LAB-ANAPHORA.ipynb",
   "provenance": []
  },
  "kernelspec": {
   "display_name": "Python 3",
   "language": "python",
   "name": "python3"
  },
  "language_info": {
   "codemirror_mode": {
    "name": "ipython",
    "version": 3
   },
   "file_extension": ".py",
   "mimetype": "text/x-python",
   "name": "python",
   "nbconvert_exporter": "python",
   "pygments_lexer": "ipython3",
   "version": "3.7.6"
  }
 },
 "nbformat": 4,
 "nbformat_minor": 1
}
